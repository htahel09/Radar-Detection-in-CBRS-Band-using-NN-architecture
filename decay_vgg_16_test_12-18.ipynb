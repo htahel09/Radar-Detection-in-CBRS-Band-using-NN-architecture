{
 "cells": [
  {
   "cell_type": "code",
   "execution_count": 1,
   "metadata": {},
   "outputs": [],
   "source": [
    "import os\n",
    "import tensorflow as tf\n",
    "import numpy as np\n",
    "from sklearn.metrics import accuracy_score, precision_score, recall_score, f1_score, roc_auc_score\n"
   ]
  },
  {
   "cell_type": "code",
   "execution_count": 2,
   "metadata": {},
   "outputs": [],
   "source": [
    "# Load the saved model\n",
    "model_path = 'decay_new_30epoch_binary_classification_VGG16.keras'\n",
    "model = tf.keras.models.load_model(model_path)"
   ]
  },
  {
   "cell_type": "code",
   "execution_count": 3,
   "metadata": {},
   "outputs": [],
   "source": [
    "# Test data paths\n",
    "test_image_folder = '/Users/goutham/Updated/Final_dataset/17k_test_images/classified_test_images/12_18_test_images'  # Test images path\n",
    "test_txt_folder = '/Users/goutham/Updated/Final_dataset/17k_test_images/classified_test_images/12_18_test_labels'    # Test labels path\n"
   ]
  },
  {
   "cell_type": "code",
   "execution_count": 4,
   "metadata": {},
   "outputs": [],
   "source": [
    "# Prepare lists for test image paths and labels\n",
    "test_image_paths = []\n",
    "test_labels = []\n"
   ]
  },
  {
   "cell_type": "code",
   "execution_count": 5,
   "metadata": {},
   "outputs": [],
   "source": [
    "# Load test image paths and labels\n",
    "for txt_file in os.listdir(test_txt_folder):\n",
    "    if txt_file.endswith('.txt'):\n",
    "        with open(os.path.join(test_txt_folder, txt_file), 'r') as file:\n",
    "            label = int(file.read().strip())\n",
    "            image_name = os.path.splitext(txt_file)[0] + '.jpg'  # Assuming test images are in .jpg format\n",
    "            image_path = os.path.join(test_image_folder, image_name)\n",
    "            if os.path.exists(image_path):\n",
    "                test_image_paths.append(image_path)\n",
    "                test_labels.append(label)\n"
   ]
  },
  {
   "cell_type": "code",
   "execution_count": 6,
   "metadata": {},
   "outputs": [
    {
     "name": "stdout",
     "output_type": "stream",
     "text": [
      "Shape of X_test: (7000, 64, 64, 3)\n",
      "\u001b[1m219/219\u001b[0m \u001b[32m━━━━━━━━━━━━━━━━━━━━\u001b[0m\u001b[37m\u001b[0m \u001b[1m58s\u001b[0m 266ms/step\n",
      "Accuracy: 0.9797\n",
      "Precision: 1.0000\n",
      "Recall: 0.9797\n",
      "F1 Score: 0.9898\n"
     ]
    }
   ],
   "source": [
    "# Check if there are any test images\n",
    "if len(test_image_paths) == 0:\n",
    "    print(\"No test images found. Please check the test_image_folder path and ensure files are available.\")\n",
    "else:\n",
    "    # Prepare test images array\n",
    "    X_test = []\n",
    "    for path in test_image_paths:\n",
    "        image = tf.keras.preprocessing.image.load_img(path, target_size=(64, 64))\n",
    "        image = tf.keras.preprocessing.image.img_to_array(image) / 255.0\n",
    "        X_test.append(image)\n",
    "    X_test = np.array(X_test)\n",
    "    y_test = np.array(test_labels)\n",
    "\n",
    "    # Check the shape of X_test\n",
    "    print(f'Shape of X_test: {X_test.shape}')  # Should be (num_samples, height, width, channels)\n",
    "\n",
    "    # Predict only if X_test has data\n",
    "    if X_test.shape[0] > 0:\n",
    "        y_pred_prob = model.predict(X_test)\n",
    "        y_pred = (y_pred_prob > 0.5).astype(int).flatten()\n",
    "\n",
    "        # Calculate metrics\n",
    "        accuracy = accuracy_score(y_test, y_pred)\n",
    "        precision = precision_score(y_test, y_pred)\n",
    "        recall = recall_score(y_test, y_pred)\n",
    "        f1 = f1_score(y_test, y_pred)\n",
    "        #roc_auc = roc_auc_score(y_test, y_pred_prob)\n",
    "\n",
    "        # Print metrics\n",
    "        print(f'Accuracy: {accuracy:.4f}')\n",
    "        print(f'Precision: {precision:.4f}')\n",
    "        print(f'Recall: {recall:.4f}')\n",
    "        print(f'F1 Score: {f1:.4f}')\n",
    "        #print(f'ROC AUC Score: {roc_auc:.4f}')\n",
    "    else:\n",
    "        print(\"X_test is empty, no predictions can be made.\")"
   ]
  },
  {
   "cell_type": "code",
   "execution_count": 7,
   "metadata": {},
   "outputs": [
    {
     "name": "stdout",
     "output_type": "stream",
     "text": [
      "\u001b[1m219/219\u001b[0m \u001b[32m━━━━━━━━━━━━━━━━━━━━\u001b[0m\u001b[37m\u001b[0m \u001b[1m60s\u001b[0m 272ms/step\n"
     ]
    },
    {
     "data": {
      "image/png": "[encoded data removed]",
      "text/plain": [
       "<Figure size 640x480 with 2 Axes>"
      ]
     },
     "metadata": {},
     "output_type": "display_data"
    },
    {
     "name": "stdout",
     "output_type": "stream",
     "text": [
      "Accuracy: 0.9797\n",
      "Precision: 1.0000\n",
      "Recall: 0.9797\n",
      "F1 Score: 0.9898\n"
     ]
    }
   ],
   "source": [
    "import numpy as np\n",
    "from tensorflow.keras.models import load_model\n",
    "from sklearn.metrics import confusion_matrix, ConfusionMatrixDisplay, accuracy_score, precision_score, recall_score, f1_score, roc_auc_score\n",
    "import matplotlib.pyplot as plt\n",
    "\n",
    "# Load your .keras model\n",
    "model = load_model('decay_new_30epoch_binary_classification_VGG16.keras')\n",
    "\n",
    "# Predict on the test set (for binary classification)\n",
    "y_pred_prob = model.predict(X_test)\n",
    "y_pred = (y_pred_prob > 0.5).astype(int).flatten()  # Threshold at 0.5 to get binary predictions (0 or 1)\n",
    "\n",
    "# Ensure that y_test is in the correct format (single dimension with 0 and 1 labels)\n",
    "y_true = y_test if y_test.ndim == 1 else np.argmax(y_test, axis=1)\n",
    "\n",
    "# Compute the confusion matrix\n",
    "cm = confusion_matrix(y_true, y_pred)\n",
    "\n",
    "# Display the confusion matrix\n",
    "disp = ConfusionMatrixDisplay(confusion_matrix=cm)\n",
    "disp.plot(cmap=plt.cm.Blues)\n",
    "plt.title(\"VGG_16_Decay\")\n",
    "plt.show()\n",
    "\n",
    "# Calculate and print additional performance metrics\n",
    "accuracy = accuracy_score(y_true, y_pred)\n",
    "precision = precision_score(y_true, y_pred)\n",
    "recall = recall_score(y_true, y_pred)\n",
    "f1 = f1_score(y_true, y_pred)\n",
    "#roc_auc = roc_auc_score(y_true, y_pred_prob)\n",
    "\n",
    "print(f'Accuracy: {accuracy:.4f}')\n",
    "print(f'Precision: {precision:.4f}')\n",
    "print(f'Recall: {recall:.4f}')\n",
    "print(f'F1 Score: {f1:.4f}')\n",
    "#print(f'ROC AUC Score: {roc_auc:.4f}')"
   ]
  },
  {
   "cell_type": "code",
   "execution_count": null,
   "metadata": {},
   "outputs": [],
   "source": []
  },
  {
   "cell_type": "code",
   "execution_count": null,
   "metadata": {},
   "outputs": [],
   "source": []
  }
 ],
 "metadata": {
  "kernelspec": {
   "display_name": "base",
   "language": "python",
   "name": "python3"
  },
  "language_info": {
   "codemirror_mode": {
    "name": "ipython",
    "version": 3
   },
   "file_extension": ".py",
   "mimetype": "text/x-python",
   "name": "python",
   "nbconvert_exporter": "python",
   "pygments_lexer": "ipython3",
   "version": "3.12.2"
  }
 },
 "nbformat": 4,
 "nbformat_minor": 2
}
