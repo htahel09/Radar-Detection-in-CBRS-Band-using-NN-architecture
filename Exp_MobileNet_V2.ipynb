{
 "cells": [
  {
   "cell_type": "code",
   "execution_count": 1,
   "id": "0de44dd0-7086-47e6-a8df-8476d5d49ab7",
   "metadata": {},
   "outputs": [
    {
     "data": {
      "text/html": [
       "<pre style=\"white-space:pre;overflow-x:auto;line-height:normal;font-family:Menlo,'DejaVu Sans Mono',consolas,'Courier New',monospace\"><span style=\"font-weight: bold\">Model: \"sequential\"</span>\n",
       "</pre>\n"
      ],
      "text/plain": [
       "\u001b[1mModel: \"sequential\"\u001b[0m\n"
      ]
     },
     "metadata": {},
     "output_type": "display_data"
    },
    {
     "data": {
      "text/html": [
       "<pre style=\"white-space:pre;overflow-x:auto;line-height:normal;font-family:Menlo,'DejaVu Sans Mono',consolas,'Courier New',monospace\">┏━━━━━━━━━━━━━━━━━━━━━━━━━━━━━━━━━┳━━━━━━━━━━━━━━━━━━━━━━━━┳━━━━━━━━━━━━━━━┓\n",
       "┃<span style=\"font-weight: bold\"> Layer (type)                    </span>┃<span style=\"font-weight: bold\"> Output Shape           </span>┃<span style=\"font-weight: bold\">       Param # </span>┃\n",
       "┡━━━━━━━━━━━━━━━━━━━━━━━━━━━━━━━━━╇━━━━━━━━━━━━━━━━━━━━━━━━╇━━━━━━━━━━━━━━━┩\n",
       "│ mobilenetv2_1.00_128            │ (<span style=\"color: #00d7ff; text-decoration-color: #00d7ff\">None</span>, <span style=\"color: #00af00; text-decoration-color: #00af00\">4</span>, <span style=\"color: #00af00; text-decoration-color: #00af00\">4</span>, <span style=\"color: #00af00; text-decoration-color: #00af00\">1280</span>)     │     <span style=\"color: #00af00; text-decoration-color: #00af00\">2,257,984</span> │\n",
       "│ (<span style=\"color: #0087ff; text-decoration-color: #0087ff\">Functional</span>)                    │                        │               │\n",
       "├─────────────────────────────────┼────────────────────────┼───────────────┤\n",
       "│ conv2d (<span style=\"color: #0087ff; text-decoration-color: #0087ff\">Conv2D</span>)                 │ (<span style=\"color: #00d7ff; text-decoration-color: #00d7ff\">None</span>, <span style=\"color: #00af00; text-decoration-color: #00af00\">4</span>, <span style=\"color: #00af00; text-decoration-color: #00af00\">4</span>, <span style=\"color: #00af00; text-decoration-color: #00af00\">128</span>)      │     <span style=\"color: #00af00; text-decoration-color: #00af00\">1,474,688</span> │\n",
       "├─────────────────────────────────┼────────────────────────┼───────────────┤\n",
       "│ batch_normalization             │ (<span style=\"color: #00d7ff; text-decoration-color: #00d7ff\">None</span>, <span style=\"color: #00af00; text-decoration-color: #00af00\">4</span>, <span style=\"color: #00af00; text-decoration-color: #00af00\">4</span>, <span style=\"color: #00af00; text-decoration-color: #00af00\">128</span>)      │           <span style=\"color: #00af00; text-decoration-color: #00af00\">512</span> │\n",
       "│ (<span style=\"color: #0087ff; text-decoration-color: #0087ff\">BatchNormalization</span>)            │                        │               │\n",
       "├─────────────────────────────────┼────────────────────────┼───────────────┤\n",
       "│ re_lu (<span style=\"color: #0087ff; text-decoration-color: #0087ff\">ReLU</span>)                    │ (<span style=\"color: #00d7ff; text-decoration-color: #00d7ff\">None</span>, <span style=\"color: #00af00; text-decoration-color: #00af00\">4</span>, <span style=\"color: #00af00; text-decoration-color: #00af00\">4</span>, <span style=\"color: #00af00; text-decoration-color: #00af00\">128</span>)      │             <span style=\"color: #00af00; text-decoration-color: #00af00\">0</span> │\n",
       "├─────────────────────────────────┼────────────────────────┼───────────────┤\n",
       "│ flatten (<span style=\"color: #0087ff; text-decoration-color: #0087ff\">Flatten</span>)               │ (<span style=\"color: #00d7ff; text-decoration-color: #00d7ff\">None</span>, <span style=\"color: #00af00; text-decoration-color: #00af00\">2048</span>)           │             <span style=\"color: #00af00; text-decoration-color: #00af00\">0</span> │\n",
       "├─────────────────────────────────┼────────────────────────┼───────────────┤\n",
       "│ dense (<span style=\"color: #0087ff; text-decoration-color: #0087ff\">Dense</span>)                   │ (<span style=\"color: #00d7ff; text-decoration-color: #00d7ff\">None</span>, <span style=\"color: #00af00; text-decoration-color: #00af00\">128</span>)            │       <span style=\"color: #00af00; text-decoration-color: #00af00\">262,272</span> │\n",
       "├─────────────────────────────────┼────────────────────────┼───────────────┤\n",
       "│ dropout (<span style=\"color: #0087ff; text-decoration-color: #0087ff\">Dropout</span>)               │ (<span style=\"color: #00d7ff; text-decoration-color: #00d7ff\">None</span>, <span style=\"color: #00af00; text-decoration-color: #00af00\">128</span>)            │             <span style=\"color: #00af00; text-decoration-color: #00af00\">0</span> │\n",
       "├─────────────────────────────────┼────────────────────────┼───────────────┤\n",
       "│ dense_1 (<span style=\"color: #0087ff; text-decoration-color: #0087ff\">Dense</span>)                 │ (<span style=\"color: #00d7ff; text-decoration-color: #00d7ff\">None</span>, <span style=\"color: #00af00; text-decoration-color: #00af00\">1</span>)              │           <span style=\"color: #00af00; text-decoration-color: #00af00\">129</span> │\n",
       "└─────────────────────────────────┴────────────────────────┴───────────────┘\n",
       "</pre>\n"
      ],
      "text/plain": [
       "┏━━━━━━━━━━━━━━━━━━━━━━━━━━━━━━━━━┳━━━━━━━━━━━━━━━━━━━━━━━━┳━━━━━━━━━━━━━━━┓\n",
       "┃\u001b[1m \u001b[0m\u001b[1mLayer (type)                   \u001b[0m\u001b[1m \u001b[0m┃\u001b[1m \u001b[0m\u001b[1mOutput Shape          \u001b[0m\u001b[1m \u001b[0m┃\u001b[1m \u001b[0m\u001b[1m      Param #\u001b[0m\u001b[1m \u001b[0m┃\n",
       "┡━━━━━━━━━━━━━━━━━━━━━━━━━━━━━━━━━╇━━━━━━━━━━━━━━━━━━━━━━━━╇━━━━━━━━━━━━━━━┩\n",
       "│ mobilenetv2_1.00_128            │ (\u001b[38;5;45mNone\u001b[0m, \u001b[38;5;34m4\u001b[0m, \u001b[38;5;34m4\u001b[0m, \u001b[38;5;34m1280\u001b[0m)     │     \u001b[38;5;34m2,257,984\u001b[0m │\n",
       "│ (\u001b[38;5;33mFunctional\u001b[0m)                    │                        │               │\n",
       "├─────────────────────────────────┼────────────────────────┼───────────────┤\n",
       "│ conv2d (\u001b[38;5;33mConv2D\u001b[0m)                 │ (\u001b[38;5;45mNone\u001b[0m, \u001b[38;5;34m4\u001b[0m, \u001b[38;5;34m4\u001b[0m, \u001b[38;5;34m128\u001b[0m)      │     \u001b[38;5;34m1,474,688\u001b[0m │\n",
       "├─────────────────────────────────┼────────────────────────┼───────────────┤\n",
       "│ batch_normalization             │ (\u001b[38;5;45mNone\u001b[0m, \u001b[38;5;34m4\u001b[0m, \u001b[38;5;34m4\u001b[0m, \u001b[38;5;34m128\u001b[0m)      │           \u001b[38;5;34m512\u001b[0m │\n",
       "│ (\u001b[38;5;33mBatchNormalization\u001b[0m)            │                        │               │\n",
       "├─────────────────────────────────┼────────────────────────┼───────────────┤\n",
       "│ re_lu (\u001b[38;5;33mReLU\u001b[0m)                    │ (\u001b[38;5;45mNone\u001b[0m, \u001b[38;5;34m4\u001b[0m, \u001b[38;5;34m4\u001b[0m, \u001b[38;5;34m128\u001b[0m)      │             \u001b[38;5;34m0\u001b[0m │\n",
       "├─────────────────────────────────┼────────────────────────┼───────────────┤\n",
       "│ flatten (\u001b[38;5;33mFlatten\u001b[0m)               │ (\u001b[38;5;45mNone\u001b[0m, \u001b[38;5;34m2048\u001b[0m)           │             \u001b[38;5;34m0\u001b[0m │\n",
       "├─────────────────────────────────┼────────────────────────┼───────────────┤\n",
       "│ dense (\u001b[38;5;33mDense\u001b[0m)                   │ (\u001b[38;5;45mNone\u001b[0m, \u001b[38;5;34m128\u001b[0m)            │       \u001b[38;5;34m262,272\u001b[0m │\n",
       "├─────────────────────────────────┼────────────────────────┼───────────────┤\n",
       "│ dropout (\u001b[38;5;33mDropout\u001b[0m)               │ (\u001b[38;5;45mNone\u001b[0m, \u001b[38;5;34m128\u001b[0m)            │             \u001b[38;5;34m0\u001b[0m │\n",
       "├─────────────────────────────────┼────────────────────────┼───────────────┤\n",
       "│ dense_1 (\u001b[38;5;33mDense\u001b[0m)                 │ (\u001b[38;5;45mNone\u001b[0m, \u001b[38;5;34m1\u001b[0m)              │           \u001b[38;5;34m129\u001b[0m │\n",
       "└─────────────────────────────────┴────────────────────────┴───────────────┘\n"
      ]
     },
     "metadata": {},
     "output_type": "display_data"
    },
    {
     "data": {
      "text/html": [
       "<pre style=\"white-space:pre;overflow-x:auto;line-height:normal;font-family:Menlo,'DejaVu Sans Mono',consolas,'Courier New',monospace\"><span style=\"font-weight: bold\"> Total params: </span><span style=\"color: #00af00; text-decoration-color: #00af00\">3,995,585</span> (15.24 MB)\n",
       "</pre>\n"
      ],
      "text/plain": [
       "\u001b[1m Total params: \u001b[0m\u001b[38;5;34m3,995,585\u001b[0m (15.24 MB)\n"
      ]
     },
     "metadata": {},
     "output_type": "display_data"
    },
    {
     "data": {
      "text/html": [
       "<pre style=\"white-space:pre;overflow-x:auto;line-height:normal;font-family:Menlo,'DejaVu Sans Mono',consolas,'Courier New',monospace\"><span style=\"font-weight: bold\"> Trainable params: </span><span style=\"color: #00af00; text-decoration-color: #00af00\">1,737,345</span> (6.63 MB)\n",
       "</pre>\n"
      ],
      "text/plain": [
       "\u001b[1m Trainable params: \u001b[0m\u001b[38;5;34m1,737,345\u001b[0m (6.63 MB)\n"
      ]
     },
     "metadata": {},
     "output_type": "display_data"
    },
    {
     "data": {
      "text/html": [
       "<pre style=\"white-space:pre;overflow-x:auto;line-height:normal;font-family:Menlo,'DejaVu Sans Mono',consolas,'Courier New',monospace\"><span style=\"font-weight: bold\"> Non-trainable params: </span><span style=\"color: #00af00; text-decoration-color: #00af00\">2,258,240</span> (8.61 MB)\n",
       "</pre>\n"
      ],
      "text/plain": [
       "\u001b[1m Non-trainable params: \u001b[0m\u001b[38;5;34m2,258,240\u001b[0m (8.61 MB)\n"
      ]
     },
     "metadata": {},
     "output_type": "display_data"
    },
    {
     "name": "stdout",
     "output_type": "stream",
     "text": [
      "X_train shape: (44800, 128, 128, 3), y_train shape: (44800,)\n",
      "X_val shape: (11200, 128, 128, 3), y_val shape: (11200,)\n"
     ]
    }
   ],
   "source": [
    "import tensorflow as tf\n",
    "from tensorflow.keras.models import Sequential\n",
    "from tensorflow.keras.layers import Flatten, Dense, Dropout, Conv2D, BatchNormalization, ReLU\n",
    "from tensorflow.keras.applications import MobileNetV2\n",
    "from tensorflow.keras.preprocessing.image import ImageDataGenerator\n",
    "from tensorflow.keras.callbacks import ModelCheckpoint, EarlyStopping, ReduceLROnPlateau\n",
    "from tensorflow.keras.regularizers import l2  # Import L2 regularizer\n",
    "from sklearn.metrics import accuracy_score, precision_score, recall_score, f1_score, roc_auc_score\n",
    "import os\n",
    "import numpy as np\n",
    "import random\n",
    "\n",
    "# Function to preprocess spectrograms\n",
    "def preprocess_spectrogram(spectrogram, target_size):\n",
    "    # Normalize\n",
    "    spectrogram = spectrogram / np.max(spectrogram)\n",
    "    # Resize to match MobileNet input\n",
    "    spectrogram = tf.image.resize(spectrogram, target_size)\n",
    "    # Convert to 3 channels (stack the same data for all channels)\n",
    "    spectrogram = tf.image.grayscale_to_rgb(spectrogram)\n",
    "    return spectrogram.numpy()\n",
    "\n",
    "# Data augmentation for spectrograms\n",
    "def augment_spectrogram(spectrogram):\n",
    "    # Time shifting\n",
    "    shift = random.randint(-10, 10)\n",
    "    spectrogram = np.roll(spectrogram, shift, axis=1)\n",
    "\n",
    "    # Frequency masking\n",
    "    freq_mask = random.randint(0, 10)\n",
    "    spectrogram[:, freq_mask:freq_mask + 10, :] = 0\n",
    "\n",
    "    # Time masking\n",
    "    time_mask = random.randint(0, 10)\n",
    "    spectrogram[time_mask:time_mask + 10, :, :] = 0\n",
    "\n",
    "    return spectrogram\n",
    "\n",
    "# Create a model with MobileNetV2 as the base and L2 regularization\n",
    "def create_model(input_shape):\n",
    "    # Load MobileNetV2 without the top layers\n",
    "    #weights_path = './models/mobilenet_v2_weights_tf_dim_ordering_tf_kernels_1.0_128_no_top.h5'\n",
    "    base_model = MobileNetV2(weights='imagenet', include_top=False, input_shape=input_shape)\n",
    "\n",
    "    # Fine-tune MobileNetV2\n",
    "    for layer in base_model.layers:\n",
    "        layer.trainable = False\n",
    "    #base_model.trainable = True\n",
    "    for layer in base_model.layers[-3:0]:  # Freeze the first 100 layers\n",
    "        layer.trainable = True\n",
    "\n",
    "    # Add custom layers with L2 regularization\n",
    "    model = Sequential([\n",
    "        base_model,\n",
    "        Conv2D(128, (3, 3), activation='relu', padding='same', kernel_regularizer=l2(0.01)),  # L2 regularization\n",
    "        BatchNormalization(),\n",
    "        ReLU(),\n",
    "        Flatten(),\n",
    "        Dense(128, activation='relu', kernel_regularizer=l2(0.01)),  # L2 regularization\n",
    "        Dropout(0.5),\n",
    "        Dense(1, activation='sigmoid', kernel_regularizer=l2(0.01))  # L2 regularization\n",
    "    ])\n",
    "    return model\n",
    "\n",
    "# Load and preprocess spectrogram dataset\n",
    "def load_data(image_folder, txt_folder, target_size):\n",
    "    image_paths = []\n",
    "    labels = []\n",
    "\n",
    "    # Read labels and corresponding spectrogram paths\n",
    "    for txt_file in os.listdir(txt_folder):\n",
    "        if txt_file.endswith('.txt'):\n",
    "            with open(os.path.join(txt_folder, txt_file), 'r') as file:\n",
    "                label = int(file.read().strip())\n",
    "                image_name = os.path.splitext(txt_file)[0] + '.jpg'  # Assuming spectrograms are in .jpg format\n",
    "                image_path = os.path.join(image_folder, image_name)\n",
    "                if os.path.exists(image_path):\n",
    "                    image_paths.append(image_path)\n",
    "                    labels.append(label)\n",
    "\n",
    "    # Preprocess spectrograms\n",
    "    X = []\n",
    "    y = []\n",
    "    for img_path, label in zip(image_paths, labels):\n",
    "        spectrogram = tf.keras.preprocessing.image.load_img(img_path, color_mode='grayscale')\n",
    "        spectrogram = tf.keras.preprocessing.image.img_to_array(spectrogram)\n",
    "        spectrogram = preprocess_spectrogram(spectrogram, target_size)\n",
    "        spectrogram = augment_spectrogram(spectrogram)  # Apply augmentation\n",
    "        X.append(spectrogram)\n",
    "        y.append(label)\n",
    "\n",
    "    return np.array(X), np.array(y)\n",
    "\n",
    "# Input shape for spectrograms\n",
    "input_shape = (128, 128, 3)\n",
    "\n",
    "# Create the model\n",
    "model = create_model(input_shape)\n",
    "\n",
    "# Define exponential decay for the learning rate\n",
    "initial_learning_rate = 1e-4\n",
    "lr_schedule = tf.keras.optimizers.schedules.ExponentialDecay(\n",
    "    initial_learning_rate=initial_learning_rate,\n",
    "    decay_steps=10000,  # Adjust based on the dataset size\n",
    "    decay_rate=0.96,    # Decay rate (e.g., reduce by 4% per step)\n",
    "    staircase=True      # Whether to apply a staircase decay\n",
    ")\n",
    "\n",
    "# Compile the model with exponential decay\n",
    "model.compile(optimizer=tf.keras.optimizers.Adam(learning_rate=lr_schedule),\n",
    "              loss='binary_crossentropy',\n",
    "              metrics=['accuracy', tf.keras.metrics.Precision(), tf.keras.metrics.Recall()])\n",
    "\n",
    "# Display model summary\n",
    "model.summary()\n",
    "\n",
    "# Paths to dataset\n",
    "image_folder = 'Dataset_Model/Final_dataset 2/56k_train_images'  # Replace with your training spectrogram images path\n",
    "txt_folder = 'Dataset_Model/Final_dataset 2/56k_train_labels'  # Replace with your training labels path\n",
    "\n",
    "# Load data\n",
    "X, y = load_data(image_folder, txt_folder, (128, 128))\n",
    "\n",
    "# Train-test split\n",
    "from sklearn.model_selection import train_test_split\n",
    "X_train, X_val, y_train, y_val = train_test_split(X, y, test_size=0.2, stratify=y, random_state=42)\n",
    "\n",
    "print(f\"X_train shape: {X_train.shape}, y_train shape: {y_train.shape}\")\n",
    "print(f\"X_val shape: {X_val.shape}, y_val shape: {y_val.shape}\")\n"
   ]
  },
  {
   "cell_type": "code",
   "execution_count": 2,
   "id": "fe207933-4669-4f05-a710-3f93105bea1d",
   "metadata": {},
   "outputs": [
    {
     "name": "stdout",
     "output_type": "stream",
     "text": [
      "X_train shape: (44800, 128, 128, 3)\n",
      "X_val shape: (11200, 128, 128, 3)\n",
      "y_train shape: (44800,)\n",
      "y_val shape: (11200,)\n",
      "Training labels distribution: [ 6400 38400]\n",
      "Validation labels distribution: [1600 9600]\n"
     ]
    }
   ],
   "source": [
    "print(f\"X_train shape: {X_train.shape}\")\n",
    "print(f\"X_val shape: {X_val.shape}\")\n",
    "print(f\"y_train shape: {y_train.shape}\")\n",
    "print(f\"y_val shape: {y_val.shape}\")\n",
    "\n",
    "print(f\"Training labels distribution: {np.bincount(y_train)}\")\n",
    "print(f\"Validation labels distribution: {np.bincount(y_val)}\")"
   ]
  },
  {
   "cell_type": "code",
   "execution_count": 3,
   "id": "02ea0d84-971d-4af1-b2d4-059b05db95bb",
   "metadata": {},
   "outputs": [
    {
     "name": "stdout",
     "output_type": "stream",
     "text": [
      "Epoch 1/100\n"
     ]
    },
    {
     "name": "stderr",
     "output_type": "stream",
     "text": [
      "/opt/homebrew/Cellar/jupyterlab/4.3.1/libexec/lib/python3.12/site-packages/keras/src/trainers/data_adapters/py_dataset_adapter.py:121: UserWarning: Your `PyDataset` class should call `super().__init__(**kwargs)` in its constructor. `**kwargs` can include `workers`, `use_multiprocessing`, `max_queue_size`. Do not pass these arguments to `fit()`, as they will be ignored.\n",
      "  self._warn_if_super_not_called()\n"
     ]
    },
    {
     "name": "stdout",
     "output_type": "stream",
     "text": [
      "\u001b[1m700/700\u001b[0m \u001b[32m━━━━━━━━━━━━━━━━━━━━\u001b[0m\u001b[37m\u001b[0m \u001b[1m135s\u001b[0m 191ms/step - accuracy: 0.8615 - loss: 3.5318 - precision: 0.8822 - recall: 0.9677 - val_accuracy: 0.9000 - val_loss: 1.2583 - val_precision: 0.9126 - val_recall: 0.9769 - learning_rate: 1.0000e-04\n",
      "Epoch 2/100\n",
      "\u001b[1m700/700\u001b[0m \u001b[32m━━━━━━━━━━━━━━━━━━━━\u001b[0m\u001b[37m\u001b[0m \u001b[1m139s\u001b[0m 198ms/step - accuracy: 0.8971 - loss: 1.0425 - precision: 0.9084 - recall: 0.9791 - val_accuracy: 0.8957 - val_loss: 0.6284 - val_precision: 0.8958 - val_recall: 0.9940 - learning_rate: 1.0000e-04\n",
      "Epoch 3/100\n",
      "\u001b[1m700/700\u001b[0m \u001b[32m━━━━━━━━━━━━━━━━━━━━\u001b[0m\u001b[37m\u001b[0m \u001b[1m133s\u001b[0m 190ms/step - accuracy: 0.9007 - loss: 0.5527 - precision: 0.9119 - recall: 0.9785 - val_accuracy: 0.9039 - val_loss: 0.4108 - val_precision: 0.9072 - val_recall: 0.9891 - learning_rate: 1.0000e-04\n",
      "Epoch 4/100\n",
      "\u001b[1m700/700\u001b[0m \u001b[32m━━━━━━━━━━━━━━━━━━━━\u001b[0m\u001b[37m\u001b[0m \u001b[1m361s\u001b[0m 516ms/step - accuracy: 0.9008 - loss: 0.3878 - precision: 0.9133 - recall: 0.9770 - val_accuracy: 0.9070 - val_loss: 0.3226 - val_precision: 0.9167 - val_recall: 0.9806 - learning_rate: 1.0000e-04\n",
      "Epoch 5/100\n",
      "\u001b[1m700/700\u001b[0m \u001b[32m━━━━━━━━━━━━━━━━━━━━\u001b[0m\u001b[37m\u001b[0m \u001b[1m636s\u001b[0m 909ms/step - accuracy: 0.9048 - loss: 0.3157 - precision: 0.9165 - recall: 0.9780 - val_accuracy: 0.8838 - val_loss: 0.3270 - val_precision: 0.9425 - val_recall: 0.9205 - learning_rate: 1.0000e-04\n",
      "Epoch 6/100\n",
      "\u001b[1m700/700\u001b[0m \u001b[32m━━━━━━━━━━━━━━━━━━━━\u001b[0m\u001b[37m\u001b[0m \u001b[1m1264s\u001b[0m 2s/step - accuracy: 0.9082 - loss: 0.2780 - precision: 0.9201 - recall: 0.9782 - val_accuracy: 0.9006 - val_loss: 0.2832 - val_precision: 0.9240 - val_recall: 0.9633 - learning_rate: 1.0000e-04\n",
      "Epoch 7/100\n",
      "\u001b[1m700/700\u001b[0m \u001b[32m━━━━━━━━━━━━━━━━━━━━\u001b[0m\u001b[37m\u001b[0m \u001b[1m124s\u001b[0m 177ms/step - accuracy: 0.9079 - loss: 0.2613 - precision: 0.9201 - recall: 0.9775 - val_accuracy: 0.9066 - val_loss: 0.2800 - val_precision: 0.9129 - val_recall: 0.9850 - learning_rate: 1.0000e-04\n",
      "Epoch 8/100\n",
      "\u001b[1m700/700\u001b[0m \u001b[32m━━━━━━━━━━━━━━━━━━━━\u001b[0m\u001b[37m\u001b[0m \u001b[1m201s\u001b[0m 287ms/step - accuracy: 0.9098 - loss: 0.2494 - precision: 0.9246 - recall: 0.9742 - val_accuracy: 0.8911 - val_loss: 0.3109 - val_precision: 0.8890 - val_recall: 0.9975 - learning_rate: 1.0000e-04\n",
      "Epoch 9/100\n",
      "\u001b[1m700/700\u001b[0m \u001b[32m━━━━━━━━━━━━━━━━━━━━\u001b[0m\u001b[37m\u001b[0m \u001b[1m151s\u001b[0m 215ms/step - accuracy: 0.9114 - loss: 0.2425 - precision: 0.9243 - recall: 0.9767 - val_accuracy: 0.9064 - val_loss: 0.2570 - val_precision: 0.9129 - val_recall: 0.9848 - learning_rate: 1.0000e-04\n",
      "Epoch 10/100\n",
      "\u001b[1m700/700\u001b[0m \u001b[32m━━━━━━━━━━━━━━━━━━━━\u001b[0m\u001b[37m\u001b[0m \u001b[1m143s\u001b[0m 205ms/step - accuracy: 0.9107 - loss: 0.2404 - precision: 0.9257 - recall: 0.9738 - val_accuracy: 0.9103 - val_loss: 0.2474 - val_precision: 0.9165 - val_recall: 0.9851 - learning_rate: 1.0000e-04\n",
      "Epoch 11/100\n",
      "\u001b[1m700/700\u001b[0m \u001b[32m━━━━━━━━━━━━━━━━━━━━\u001b[0m\u001b[37m\u001b[0m \u001b[1m142s\u001b[0m 203ms/step - accuracy: 0.9148 - loss: 0.2320 - precision: 0.9288 - recall: 0.9753 - val_accuracy: 0.9048 - val_loss: 0.2555 - val_precision: 0.9097 - val_recall: 0.9869 - learning_rate: 1.0000e-04\n",
      "Epoch 12/100\n",
      "\u001b[1m700/700\u001b[0m \u001b[32m━━━━━━━━━━━━━━━━━━━━\u001b[0m\u001b[37m\u001b[0m \u001b[1m160s\u001b[0m 229ms/step - accuracy: 0.9163 - loss: 0.2285 - precision: 0.9303 - recall: 0.9754 - val_accuracy: 0.9039 - val_loss: 0.2597 - val_precision: 0.9202 - val_recall: 0.9722 - learning_rate: 1.0000e-04\n",
      "Epoch 13/100\n",
      "\u001b[1m700/700\u001b[0m \u001b[32m━━━━━━━━━━━━━━━━━━━━\u001b[0m\u001b[37m\u001b[0m \u001b[1m155s\u001b[0m 221ms/step - accuracy: 0.9173 - loss: 0.2254 - precision: 0.9321 - recall: 0.9744 - val_accuracy: 0.9054 - val_loss: 0.3329 - val_precision: 0.9128 - val_recall: 0.9835 - learning_rate: 1.0000e-04\n",
      "\u001b[1m532/532\u001b[0m \u001b[32m━━━━━━━━━━━━━━━━━━━━\u001b[0m\u001b[37m\u001b[0m \u001b[1m38s\u001b[0m 71ms/step\n",
      "Accuracy: 0.9498\n",
      "Precision: 0.9648\n",
      "Recall: 0.9825\n",
      "F1 Score: 0.9736\n",
      "ROC AUC Score: 0.9364\n"
     ]
    },
    {
     "data": {
      "text/plain": [
       "<Figure size 800x600 with 0 Axes>"
      ]
     },
     "metadata": {},
     "output_type": "display_data"
    },
    {
     "data": {
      "image/png": "[encoded data removed]",
      "text/plain": [
       "<Figure size 640x480 with 2 Axes>"
      ]
     },
     "metadata": {},
     "output_type": "display_data"
    }
   ],
   "source": [
    "import matplotlib.pyplot as plt\n",
    "from sklearn.metrics import confusion_matrix, ConfusionMatrixDisplay\n",
    "\n",
    "# Create data generators\n",
    "train_datagen = ImageDataGenerator()\n",
    "val_datagen = ImageDataGenerator()\n",
    "\n",
    "train_generator = train_datagen.flow(X_train, y_train, batch_size=64)\n",
    "val_generator = val_datagen.flow(X_val, y_val, batch_size=64)\n",
    "\n",
    "# Callbacks for training\n",
    "callbacks = [\n",
    "    ModelCheckpoint('best_Exp_MV2.keras', save_best_only=True, monitor='val_loss'),\n",
    "    EarlyStopping(patience=3, monitor='val_loss', restore_best_weights=True),\n",
    "    ReduceLROnPlateau(monitor='val_loss', factor=0.1, patience=5, verbose=1)\n",
    "]\n",
    "\n",
    "# Train the model\n",
    "history = model.fit(\n",
    "    train_generator,\n",
    "    validation_data=val_generator,\n",
    "    epochs=100,\n",
    "    callbacks=callbacks\n",
    ")\n",
    "\n",
    "# Save the trained model\n",
    "model.save('final_Exp_MV2.keras')\n",
    "\n",
    "# Load test data\n",
    "test_image_folder = 'Dataset_Model/Final_dataset 2/17k_test_images'  # Replace with your test spectrogram images path\n",
    "test_txt_folder = 'Dataset_Model/Final_dataset/17k_test_labels'  # Replace with your test labels path\n",
    "X_test, y_test = load_data(test_image_folder, test_txt_folder, (128, 128))\n",
    "\n",
    "# Evaluate the model on test data\n",
    "y_pred_prob = model.predict(X_test)\n",
    "y_pred = (y_pred_prob > 0.5).astype(int).flatten()\n",
    "\n",
    "# Calculate metrics\n",
    "accuracy = accuracy_score(y_test, y_pred)\n",
    "precision = precision_score(y_test, y_pred)\n",
    "recall = recall_score(y_test, y_pred)\n",
    "f1 = f1_score(y_test, y_pred)\n",
    "roc_auc = roc_auc_score(y_test, y_pred_prob)\n",
    "\n",
    "# Print metrics\n",
    "print(f'Accuracy: {accuracy:.4f}')\n",
    "print(f'Precision: {precision:.4f}')\n",
    "print(f'Recall: {recall:.4f}')\n",
    "print(f'F1 Score: {f1:.4f}')\n",
    "print(f'ROC AUC Score: {roc_auc:.4f}')\n",
    "\n",
    "# Generate and display confusion matrix\n",
    "conf_matrix = confusion_matrix(y_test, y_pred)\n",
    "\n",
    "# Plot confusion matrix\n",
    "plt.figure(figsize=(8, 6))\n",
    "disp = ConfusionMatrixDisplay(confusion_matrix=conf_matrix, display_labels=[0, 1])\n",
    "disp.plot(cmap=plt.cm.Blues, values_format=\"d\")\n",
    "plt.title(\"Confusion Matrix\")\n",
    "plt.show()"
   ]
  },
  {
   "cell_type": "code",
   "execution_count": null,
   "id": "c9885e06-4513-46c4-bf33-e13b07919dba",
   "metadata": {},
   "outputs": [],
   "source": []
  }
 ],
 "metadata": {
  "kernelspec": {
   "display_name": "Python 3 (ipykernel)",
   "language": "python",
   "name": "python3"
  },
  "language_info": {
   "codemirror_mode": {
    "name": "ipython",
    "version": 3
   },
   "file_extension": ".py",
   "mimetype": "text/x-python",
   "name": "python",
   "nbconvert_exporter": "python",
   "pygments_lexer": "ipython3",
   "version": "3.12.7"
  }
 },
 "nbformat": 4,
 "nbformat_minor": 5
}
