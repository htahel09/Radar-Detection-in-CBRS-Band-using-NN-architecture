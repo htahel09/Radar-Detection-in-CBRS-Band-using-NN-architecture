{
 "cells": [
  {
   "cell_type": "code",
   "execution_count": 23,
   "metadata": {},
   "outputs": [
    {
     "name": "stdout",
     "output_type": "stream",
     "text": [
      "Total images: 56000\n",
      "Total labels: 88893\n",
      "Images with labels: 56000\n",
      "Images without labels: 0\n"
     ]
    }
   ],
   "source": [
    "import os\n",
    "\n",
    "def count_images_with_labels(image_folder, label_folder, image_ext=\".jpg\", label_ext=\".txt\"):\n",
    "    # List all image and label file names\n",
    "    image_files = [f for f in os.listdir(image_folder) if f.endswith(image_ext)]\n",
    "    label_files = [f for f in os.listdir(label_folder) if f.endswith(label_ext)]\n",
    "    \n",
    "    # Extract base names (without extensions) for comparison\n",
    "    image_basenames = {os.path.splitext(f)[0] for f in image_files}\n",
    "    label_basenames = {os.path.splitext(f)[0] for f in label_files}\n",
    "    \n",
    "    # Find intersection of image and label base names\n",
    "    matched_files = image_basenames.intersection(label_basenames)\n",
    "    \n",
    "    # Print results\n",
    "    print(f\"Total images: {len(image_files)}\")\n",
    "    print(f\"Total labels: {len(label_files)}\")\n",
    "    print(f\"Images with labels: {len(matched_files)}\")\n",
    "    print(f\"Images without labels: {len(image_files) - len(matched_files)}\")\n",
    "    \n",
    "    return matched_files\n",
    "\n",
    "# Specify folders\n",
    "image_folder = '/Users/goutham/Updated/Final_dataset/56k_train_images'  # Replace with your training spectrogram images path\n",
    "label_folder = '/Users/goutham/Updated/Final_dataset/56k_train_labels' # Replace with the path to your label folder\n",
    "\n",
    "# Call the function\n",
    "matched_files = count_images_with_labels(image_folder, label_folder)\n"
   ]
  },
  {
   "cell_type": "code",
   "execution_count": 24,
   "metadata": {},
   "outputs": [
    {
     "name": "stdout",
     "output_type": "stream",
     "text": [
      "Created 0 label files for unmatched images.\n"
     ]
    }
   ],
   "source": [
    "import os\n",
    "\n",
    "def create_missing_labels(image_folder, label_folder, image_ext=\".jpg\", label_ext=\".txt\"):\n",
    "    # Get all image and label file names\n",
    "    image_files = [f for f in os.listdir(image_folder) if f.endswith(image_ext)]\n",
    "    label_files = [f for f in os.listdir(label_folder) if f.endswith(label_ext)]\n",
    "    \n",
    "    # Extract base names (without extensions) for comparison\n",
    "    image_basenames = {os.path.splitext(f)[0] for f in image_files}\n",
    "    label_basenames = {os.path.splitext(f)[0] for f in label_files}\n",
    "    \n",
    "    # Find images without labels\n",
    "    unmatched_images = image_basenames - label_basenames\n",
    "    \n",
    "    for base_name in unmatched_images:\n",
    "        # Extract SINR value from the file name\n",
    "        parts = base_name.split('_')\n",
    "        sinr_part = next((part for part in parts if part.startswith('SINR')), None)\n",
    "        \n",
    "        if sinr_part:\n",
    "            sinr_value = int(sinr_part[4:])  # Extract numeric part after 'SINR'\n",
    "            label_value = 1 if sinr_value != 100 else 0\n",
    "            \n",
    "            # Create the corresponding text file in the label folder\n",
    "            label_path = os.path.join(label_folder, f\"{base_name}{label_ext}\")\n",
    "            with open(label_path, 'w') as label_file:\n",
    "                label_file.write(str(label_value))\n",
    "    \n",
    "    print(f\"Created {len(unmatched_images)} label files for unmatched images.\")\n",
    "\n",
    "image_folder = '/Users/goutham/Updated/Final_dataset/56k_train_images'  # Replace with your training spectrogram images path\n",
    "label_folder = '/Users/goutham/Updated/Final_dataset/56k_train_labels' # Replace with the path to your label folder\n",
    "\n",
    "\n",
    "# Call the function\n",
    "create_missing_labels(image_folder, label_folder)"
   ]
  },
  {
   "cell_type": "code",
   "execution_count": 25,
   "metadata": {},
   "outputs": [],
   "source": [
    "import tensorflow as tf\n",
    "from tensorflow.keras.models import Sequential, Model\n",
    "from tensorflow.keras.layers import Conv2D, MaxPooling2D, Flatten, Dense, Dropout\n",
    "from tensorflow.keras.applications import VGG16\n",
    "from tensorflow.keras.preprocessing.image import ImageDataGenerator\n",
    "import os\n",
    "from tensorflow.keras.callbacks import TensorBoard, EarlyStopping, ReduceLROnPlateau, ModelCheckpoint\n",
    "from datetime import datetime\n",
    "import numpy as np\n",
    "from sklearn.metrics import accuracy_score, precision_score, recall_score, f1_score, roc_auc_score\n"
   ]
  },
  {
   "cell_type": "code",
   "execution_count": 26,
   "metadata": {},
   "outputs": [],
   "source": [
    "# Define a model with VGG16 as base for transfer learning\n",
    "def create_model(input_shape):\n",
    "    # Load VGG16 model without the fully connected layers (include_top=False)\n",
    "    base_model = VGG16(weights='imagenet', include_top=False, input_shape=input_shape)\n",
    "    \n",
    "    # Freeze the layers of VGG16\n",
    "    base_model.trainable = False\n",
    "\n",
    "    for layer in base_model.layers[-3:]:\n",
    "        layer.trainable = True\n",
    "\n",
    "    \n",
    "    # Create a new sequential model\n",
    "    model = Sequential()\n",
    "    \n",
    "    # Add the VGG16 base model (without the top layers)\n",
    "    model.add(base_model)\n",
    "    \n",
    "    # Add a flatten layer to the output from VGG16\n",
    "    model.add(Flatten())\n",
    "    \n",
    "    # Add a custom dense layer for classification\n",
    "    model.add(Dense(64, activation='gelu'))  # GELU activation\n",
    "    \n",
    "    # Dropout to prevent overfitting\n",
    "    model.add(Dropout(0.6))\n",
    "    \n",
    "    # Output layer for binary classification\n",
    "    model.add(Dense(1, activation='sigmoid'))\n",
    "    \n",
    "    return model\n"
   ]
  },
  {
   "cell_type": "code",
   "execution_count": 27,
   "metadata": {},
   "outputs": [
    {
     "data": {
      "text/html": [
       "<pre style=\"white-space:pre;overflow-x:auto;line-height:normal;font-family:Menlo,'DejaVu Sans Mono',consolas,'Courier New',monospace\"><span style=\"font-weight: bold\">Model: \"sequential_1\"</span>\n",
       "</pre>\n"
      ],
      "text/plain": [
       "\u001b[1mModel: \"sequential_1\"\u001b[0m\n"
      ]
     },
     "metadata": {},
     "output_type": "display_data"
    },
    {
     "data": {
      "text/html": [
       "<pre style=\"white-space:pre;overflow-x:auto;line-height:normal;font-family:Menlo,'DejaVu Sans Mono',consolas,'Courier New',monospace\">┏━━━━━━━━━━━━━━━━━━━━━━━━━━━━━━━━━┳━━━━━━━━━━━━━━━━━━━━━━━━┳━━━━━━━━━━━━━━━┓\n",
       "┃<span style=\"font-weight: bold\"> Layer (type)                    </span>┃<span style=\"font-weight: bold\"> Output Shape           </span>┃<span style=\"font-weight: bold\">       Param # </span>┃\n",
       "┡━━━━━━━━━━━━━━━━━━━━━━━━━━━━━━━━━╇━━━━━━━━━━━━━━━━━━━━━━━━╇━━━━━━━━━━━━━━━┩\n",
       "│ vgg16 (<span style=\"color: #0087ff; text-decoration-color: #0087ff\">Functional</span>)              │ (<span style=\"color: #00d7ff; text-decoration-color: #00d7ff\">None</span>, <span style=\"color: #00af00; text-decoration-color: #00af00\">2</span>, <span style=\"color: #00af00; text-decoration-color: #00af00\">2</span>, <span style=\"color: #00af00; text-decoration-color: #00af00\">512</span>)      │    <span style=\"color: #00af00; text-decoration-color: #00af00\">14,714,688</span> │\n",
       "├─────────────────────────────────┼────────────────────────┼───────────────┤\n",
       "│ flatten_1 (<span style=\"color: #0087ff; text-decoration-color: #0087ff\">Flatten</span>)             │ (<span style=\"color: #00d7ff; text-decoration-color: #00d7ff\">None</span>, <span style=\"color: #00af00; text-decoration-color: #00af00\">2048</span>)           │             <span style=\"color: #00af00; text-decoration-color: #00af00\">0</span> │\n",
       "├─────────────────────────────────┼────────────────────────┼───────────────┤\n",
       "│ dense_2 (<span style=\"color: #0087ff; text-decoration-color: #0087ff\">Dense</span>)                 │ (<span style=\"color: #00d7ff; text-decoration-color: #00d7ff\">None</span>, <span style=\"color: #00af00; text-decoration-color: #00af00\">64</span>)             │       <span style=\"color: #00af00; text-decoration-color: #00af00\">131,136</span> │\n",
       "├─────────────────────────────────┼────────────────────────┼───────────────┤\n",
       "│ dropout_1 (<span style=\"color: #0087ff; text-decoration-color: #0087ff\">Dropout</span>)             │ (<span style=\"color: #00d7ff; text-decoration-color: #00d7ff\">None</span>, <span style=\"color: #00af00; text-decoration-color: #00af00\">64</span>)             │             <span style=\"color: #00af00; text-decoration-color: #00af00\">0</span> │\n",
       "├─────────────────────────────────┼────────────────────────┼───────────────┤\n",
       "│ dense_3 (<span style=\"color: #0087ff; text-decoration-color: #0087ff\">Dense</span>)                 │ (<span style=\"color: #00d7ff; text-decoration-color: #00d7ff\">None</span>, <span style=\"color: #00af00; text-decoration-color: #00af00\">1</span>)              │            <span style=\"color: #00af00; text-decoration-color: #00af00\">65</span> │\n",
       "└─────────────────────────────────┴────────────────────────┴───────────────┘\n",
       "</pre>\n"
      ],
      "text/plain": [
       "┏━━━━━━━━━━━━━━━━━━━━━━━━━━━━━━━━━┳━━━━━━━━━━━━━━━━━━━━━━━━┳━━━━━━━━━━━━━━━┓\n",
       "┃\u001b[1m \u001b[0m\u001b[1mLayer (type)                   \u001b[0m\u001b[1m \u001b[0m┃\u001b[1m \u001b[0m\u001b[1mOutput Shape          \u001b[0m\u001b[1m \u001b[0m┃\u001b[1m \u001b[0m\u001b[1m      Param #\u001b[0m\u001b[1m \u001b[0m┃\n",
       "┡━━━━━━━━━━━━━━━━━━━━━━━━━━━━━━━━━╇━━━━━━━━━━━━━━━━━━━━━━━━╇━━━━━━━━━━━━━━━┩\n",
       "│ vgg16 (\u001b[38;5;33mFunctional\u001b[0m)              │ (\u001b[38;5;45mNone\u001b[0m, \u001b[38;5;34m2\u001b[0m, \u001b[38;5;34m2\u001b[0m, \u001b[38;5;34m512\u001b[0m)      │    \u001b[38;5;34m14,714,688\u001b[0m │\n",
       "├─────────────────────────────────┼────────────────────────┼───────────────┤\n",
       "│ flatten_1 (\u001b[38;5;33mFlatten\u001b[0m)             │ (\u001b[38;5;45mNone\u001b[0m, \u001b[38;5;34m2048\u001b[0m)           │             \u001b[38;5;34m0\u001b[0m │\n",
       "├─────────────────────────────────┼────────────────────────┼───────────────┤\n",
       "│ dense_2 (\u001b[38;5;33mDense\u001b[0m)                 │ (\u001b[38;5;45mNone\u001b[0m, \u001b[38;5;34m64\u001b[0m)             │       \u001b[38;5;34m131,136\u001b[0m │\n",
       "├─────────────────────────────────┼────────────────────────┼───────────────┤\n",
       "│ dropout_1 (\u001b[38;5;33mDropout\u001b[0m)             │ (\u001b[38;5;45mNone\u001b[0m, \u001b[38;5;34m64\u001b[0m)             │             \u001b[38;5;34m0\u001b[0m │\n",
       "├─────────────────────────────────┼────────────────────────┼───────────────┤\n",
       "│ dense_3 (\u001b[38;5;33mDense\u001b[0m)                 │ (\u001b[38;5;45mNone\u001b[0m, \u001b[38;5;34m1\u001b[0m)              │            \u001b[38;5;34m65\u001b[0m │\n",
       "└─────────────────────────────────┴────────────────────────┴───────────────┘\n"
      ]
     },
     "metadata": {},
     "output_type": "display_data"
    },
    {
     "data": {
      "text/html": [
       "<pre style=\"white-space:pre;overflow-x:auto;line-height:normal;font-family:Menlo,'DejaVu Sans Mono',consolas,'Courier New',monospace\"><span style=\"font-weight: bold\"> Total params: </span><span style=\"color: #00af00; text-decoration-color: #00af00\">14,845,889</span> (56.63 MB)\n",
       "</pre>\n"
      ],
      "text/plain": [
       "\u001b[1m Total params: \u001b[0m\u001b[38;5;34m14,845,889\u001b[0m (56.63 MB)\n"
      ]
     },
     "metadata": {},
     "output_type": "display_data"
    },
    {
     "data": {
      "text/html": [
       "<pre style=\"white-space:pre;overflow-x:auto;line-height:normal;font-family:Menlo,'DejaVu Sans Mono',consolas,'Courier New',monospace\"><span style=\"font-weight: bold\"> Trainable params: </span><span style=\"color: #00af00; text-decoration-color: #00af00\">4,850,817</span> (18.50 MB)\n",
       "</pre>\n"
      ],
      "text/plain": [
       "\u001b[1m Trainable params: \u001b[0m\u001b[38;5;34m4,850,817\u001b[0m (18.50 MB)\n"
      ]
     },
     "metadata": {},
     "output_type": "display_data"
    },
    {
     "data": {
      "text/html": [
       "<pre style=\"white-space:pre;overflow-x:auto;line-height:normal;font-family:Menlo,'DejaVu Sans Mono',consolas,'Courier New',monospace\"><span style=\"font-weight: bold\"> Non-trainable params: </span><span style=\"color: #00af00; text-decoration-color: #00af00\">9,995,072</span> (38.13 MB)\n",
       "</pre>\n"
      ],
      "text/plain": [
       "\u001b[1m Non-trainable params: \u001b[0m\u001b[38;5;34m9,995,072\u001b[0m (38.13 MB)\n"
      ]
     },
     "metadata": {},
     "output_type": "display_data"
    }
   ],
   "source": [
    "# Set the input shape (height, width, channels)\n",
    "input_shape = (64, 64, 3)  # For 64x64 RGB images\n",
    "\n",
    "# Create the model\n",
    "model = create_model(input_shape)\n",
    "\n",
    "# Compile the model\n",
    "model.compile(optimizer='adam', loss='binary_crossentropy', metrics=['accuracy'])\n",
    "\n",
    "# Summary of the model\n",
    "model.summary()"
   ]
  },
  {
   "cell_type": "code",
   "execution_count": 28,
   "metadata": {},
   "outputs": [],
   "source": [
    "#Load the data\n",
    "image_folder = '/Users/goutham/Updated/Final_dataset/56k_train_images'  # Replace with the path to your images\n",
    "txt_folder = '/Users/goutham/Updated/Final_dataset/56k_train_labels'  # Replace with the path to your txt labels\n"
   ]
  },
  {
   "cell_type": "code",
   "execution_count": 29,
   "metadata": {},
   "outputs": [
    {
     "name": "stdout",
     "output_type": "stream",
     "text": [
      "89 56000\n"
     ]
    }
   ],
   "source": [
    "# Prepare lists for image paths and labels\n",
    "image_paths = []\n",
    "labels = []\n",
    "\n",
    "# Load image paths and labels from the txt files\n",
    "for txt_file in os.listdir(txt_folder):\n",
    "    if txt_file.endswith('.txt'):\n",
    "        with open(os.path.join(txt_folder, txt_file), 'r') as file:\n",
    "            label = int(file.read().strip())\n",
    "            image_name = os.path.splitext(txt_file)[0] + '.jpg'  # Assuming images are in .jpg format\n",
    "            image_path = os.path.join(image_folder, image_name)\n",
    "            if os.path.exists(image_path):\n",
    "                image_paths.append(image_path)\n",
    "                labels.append(label)\n",
    "print(len(image_path),len(labels))\n",
    "\n",
    "# Prepare training data\n",
    "training_image_paths, training_labels = image_paths, labels\n",
    "\n",
    "# Create an ImageDataGenerator\n",
    "train_datagen = ImageDataGenerator(rescale=1.0/255)\n",
    "val_datagen = ImageDataGenerator(rescale=1.0/255)"
   ]
  },
  {
   "cell_type": "code",
   "execution_count": 30,
   "metadata": {},
   "outputs": [],
   "source": [
    "# Helper function to generate batches from paths and labels\n",
    "def data_generator(image_paths, labels, batch_size, target_size):\n",
    "    while True:\n",
    "        for start in range(0, len(image_paths), batch_size):\n",
    "            end = min(start + batch_size, len(image_paths))\n",
    "            batch_paths = image_paths[start:end]\n",
    "            batch_labels = labels[start:end]\n",
    "            images = []\n",
    "            for path in batch_paths:\n",
    "                image = tf.keras.preprocessing.image.load_img(path, target_size=target_size)\n",
    "                image = tf.keras.preprocessing.image.img_to_array(image) / 255.0\n",
    "                images.append(image)\n",
    "            yield np.array(images), np.array(batch_labels)\n",
    "\n",
    "# Set batch size and target size\n",
    "batch_size = 32\n",
    "target_size = (64, 64)\n",
    "\n",
    "# Create generator for training\n",
    "generator_train = data_generator(training_image_paths, training_labels, batch_size, target_size)"
   ]
  },
  {
   "cell_type": "code",
   "execution_count": 31,
   "metadata": {},
   "outputs": [
    {
     "data": {
      "text/plain": [
       "<generator object data_generator at 0x175a23ba0>"
      ]
     },
     "execution_count": 31,
     "metadata": {},
     "output_type": "execute_result"
    }
   ],
   "source": [
    "generator_train"
   ]
  },
  {
   "cell_type": "code",
   "execution_count": 32,
   "metadata": {},
   "outputs": [],
   "source": [
    "import tensorflow as tf\n",
    "from tensorflow.keras.callbacks import TensorBoard, EarlyStopping, ReduceLROnPlateau, ModelCheckpoint\n",
    "from datetime import datetime\n",
    "\n"
   ]
  },
  {
   "cell_type": "code",
   "execution_count": 33,
   "metadata": {},
   "outputs": [],
   "source": [
    "# Define log directory for TensorBoard\n",
    "log_dir = \"logs/fit/\" + datetime.now().strftime(\"%Y%m%d-%H%M%S\")\n"
   ]
  },
  {
   "cell_type": "code",
   "execution_count": 34,
   "metadata": {},
   "outputs": [],
   "source": [
    "\n",
    "# Initial learning rate, decay rate, and decay steps for exponential decay\n",
    "initial_learning_rate = 0.001\n",
    "decay_rate = 0.96\n",
    "decay_steps = 1000\n"
   ]
  },
  {
   "cell_type": "code",
   "execution_count": 35,
   "metadata": {},
   "outputs": [],
   "source": [
    "\n",
    "# Set up the learning rate schedule\n",
    "lr_schedule = tf.keras.optimizers.schedules.ExponentialDecay(\n",
    "    initial_learning_rate=initial_learning_rate,\n",
    "    decay_steps=decay_steps,\n",
    "    decay_rate=decay_rate,\n",
    "    staircase=True  # Decays at discrete intervals\n",
    ")\n"
   ]
  },
  {
   "cell_type": "code",
   "execution_count": 36,
   "metadata": {},
   "outputs": [],
   "source": [
    "\n",
    "# Set up callbacks\n",
    "callbacks = [\n",
    "    TensorBoard(log_dir=log_dir, histogram_freq=1),\n",
    "    EarlyStopping(monitor='loss', patience=2, restore_best_weights=True),\n",
    "    ReduceLROnPlateau(monitor='loss', factor=0.2, patience=2, min_lr=0.00001),\n",
    "    ModelCheckpoint('decay_new_30epoch_binary_classification_VGG16.keras', monitor='loss', save_best_only=True)\n",
    "]\n"
   ]
  },
  {
   "cell_type": "code",
   "execution_count": 37,
   "metadata": {},
   "outputs": [],
   "source": [
    "\n",
    "# Compile model with the exponential decay learning rate\n",
    "model.compile(\n",
    "    optimizer=tf.keras.optimizers.Adam(learning_rate=lr_schedule),\n",
    "    loss='binary_crossentropy',  # Assuming binary classification task\n",
    "    metrics=['accuracy']\n",
    ")\n"
   ]
  },
  {
   "cell_type": "code",
   "execution_count": 39,
   "metadata": {},
   "outputs": [
    {
     "name": "stdout",
     "output_type": "stream",
     "text": [
      "Epoch 1/30\n",
      "\u001b[1m1750/1750\u001b[0m \u001b[32m━━━━━━━━━━━━━━━━━━━━\u001b[0m\u001b[37m\u001b[0m \u001b[1m740s\u001b[0m 423ms/step - accuracy: 0.8631 - loss: 0.3732 - learning_rate: 9.2160e-04\n",
      "Epoch 2/30\n",
      "\u001b[1m1750/1750\u001b[0m \u001b[32m━━━━━━━━━━━━━━━━━━━━\u001b[0m\u001b[37m\u001b[0m \u001b[1m837s\u001b[0m 478ms/step - accuracy: 0.8700 - loss: 0.3451 - learning_rate: 8.4935e-04\n",
      "Epoch 3/30\n",
      "\u001b[1m1750/1750\u001b[0m \u001b[32m━━━━━━━━━━━━━━━━━━━━\u001b[0m\u001b[37m\u001b[0m \u001b[1m890s\u001b[0m 509ms/step - accuracy: 0.8716 - loss: 0.3366 - learning_rate: 7.8276e-04\n",
      "Epoch 4/30\n",
      "\u001b[1m1750/1750\u001b[0m \u001b[32m━━━━━━━━━━━━━━━━━━━━\u001b[0m\u001b[37m\u001b[0m \u001b[1m720s\u001b[0m 412ms/step - accuracy: 0.8731 - loss: 0.3299 - learning_rate: 7.2139e-04\n",
      "Epoch 5/30\n",
      "\u001b[1m1750/1750\u001b[0m \u001b[32m━━━━━━━━━━━━━━━━━━━━\u001b[0m\u001b[37m\u001b[0m \u001b[1m765s\u001b[0m 437ms/step - accuracy: 0.8743 - loss: 0.3221 - learning_rate: 6.9253e-04\n",
      "Epoch 6/30\n",
      "\u001b[1m1750/1750\u001b[0m \u001b[32m━━━━━━━━━━━━━━━━━━━━\u001b[0m\u001b[37m\u001b[0m \u001b[1m750s\u001b[0m 429ms/step - accuracy: 0.8745 - loss: 0.3189 - learning_rate: 6.3824e-04\n",
      "Epoch 7/30\n",
      "\u001b[1m1750/1750\u001b[0m \u001b[32m━━━━━━━━━━━━━━━━━━━━\u001b[0m\u001b[37m\u001b[0m \u001b[1m743s\u001b[0m 425ms/step - accuracy: 0.8755 - loss: 0.3142 - learning_rate: 5.8820e-04\n",
      "Epoch 8/30\n",
      "\u001b[1m1750/1750\u001b[0m \u001b[32m━━━━━━━━━━━━━━━━━━━━\u001b[0m\u001b[37m\u001b[0m \u001b[1m715s\u001b[0m 408ms/step - accuracy: 0.8771 - loss: 0.3088 - learning_rate: 5.4209e-04\n",
      "Epoch 9/30\n",
      "\u001b[1m1750/1750\u001b[0m \u001b[32m━━━━━━━━━━━━━━━━━━━━\u001b[0m\u001b[37m\u001b[0m \u001b[1m693s\u001b[0m 396ms/step - accuracy: 0.8780 - loss: 0.3056 - learning_rate: 5.2040e-04\n",
      "Epoch 10/30\n",
      "\u001b[1m1750/1750\u001b[0m \u001b[32m━━━━━━━━━━━━━━━━━━━━\u001b[0m\u001b[37m\u001b[0m \u001b[1m693s\u001b[0m 396ms/step - accuracy: 0.8791 - loss: 0.3031 - learning_rate: 4.7960e-04\n",
      "Epoch 11/30\n",
      "\u001b[1m1750/1750\u001b[0m \u001b[32m━━━━━━━━━━━━━━━━━━━━\u001b[0m\u001b[37m\u001b[0m \u001b[1m691s\u001b[0m 395ms/step - accuracy: 0.8803 - loss: 0.2985 - learning_rate: 4.4200e-04\n",
      "Epoch 12/30\n",
      "\u001b[1m1750/1750\u001b[0m \u001b[32m━━━━━━━━━━━━━━━━━━━━\u001b[0m\u001b[37m\u001b[0m \u001b[1m701s\u001b[0m 401ms/step - accuracy: 0.8812 - loss: 0.2967 - learning_rate: 4.0735e-04\n",
      "Epoch 13/30\n",
      "\u001b[1m1750/1750\u001b[0m \u001b[32m━━━━━━━━━━━━━━━━━━━━\u001b[0m\u001b[37m\u001b[0m \u001b[1m703s\u001b[0m 402ms/step - accuracy: 0.8821 - loss: 0.2934 - learning_rate: 3.9106e-04\n",
      "Epoch 14/30\n",
      "\u001b[1m1750/1750\u001b[0m \u001b[32m━━━━━━━━━━━━━━━━━━━━\u001b[0m\u001b[37m\u001b[0m \u001b[1m705s\u001b[0m 403ms/step - accuracy: 0.8820 - loss: 0.2909 - learning_rate: 3.6040e-04\n",
      "Epoch 15/30\n",
      "\u001b[1m1750/1750\u001b[0m \u001b[32m━━━━━━━━━━━━━━━━━━━━\u001b[0m\u001b[37m\u001b[0m \u001b[1m710s\u001b[0m 406ms/step - accuracy: 0.8825 - loss: 0.2882 - learning_rate: 3.3214e-04\n",
      "Epoch 16/30\n",
      "\u001b[1m1750/1750\u001b[0m \u001b[32m━━━━━━━━━━━━━━━━━━━━\u001b[0m\u001b[37m\u001b[0m \u001b[1m706s\u001b[0m 403ms/step - accuracy: 0.8840 - loss: 0.2854 - learning_rate: 3.0610e-04\n",
      "Epoch 17/30\n",
      "\u001b[1m1750/1750\u001b[0m \u001b[32m━━━━━━━━━━━━━━━━━━━━\u001b[0m\u001b[37m\u001b[0m \u001b[1m705s\u001b[0m 403ms/step - accuracy: 0.8844 - loss: 0.2835 - learning_rate: 2.9386e-04\n",
      "Epoch 18/30\n",
      "\u001b[1m1750/1750\u001b[0m \u001b[32m━━━━━━━━━━━━━━━━━━━━\u001b[0m\u001b[37m\u001b[0m \u001b[1m702s\u001b[0m 401ms/step - accuracy: 0.8863 - loss: 0.2799 - learning_rate: 2.7082e-04\n",
      "Epoch 19/30\n",
      "\u001b[1m1750/1750\u001b[0m \u001b[32m━━━━━━━━━━━━━━━━━━━━\u001b[0m\u001b[37m\u001b[0m \u001b[1m722s\u001b[0m 413ms/step - accuracy: 0.8866 - loss: 0.2786 - learning_rate: 2.4959e-04\n",
      "Epoch 20/30\n",
      "\u001b[1m1750/1750\u001b[0m \u001b[32m━━━━━━━━━━━━━━━━━━━━\u001b[0m\u001b[37m\u001b[0m \u001b[1m745s\u001b[0m 426ms/step - accuracy: 0.8868 - loss: 0.2764 - learning_rate: 2.3002e-04\n",
      "Epoch 21/30\n",
      "\u001b[1m1750/1750\u001b[0m \u001b[32m━━━━━━━━━━━━━━━━━━━━\u001b[0m\u001b[37m\u001b[0m \u001b[1m710s\u001b[0m 406ms/step - accuracy: 0.8861 - loss: 0.2760 - learning_rate: 2.2082e-04\n",
      "Epoch 22/30\n",
      "\u001b[1m1750/1750\u001b[0m \u001b[32m━━━━━━━━━━━━━━━━━━━━\u001b[0m\u001b[37m\u001b[0m \u001b[1m716s\u001b[0m 409ms/step - accuracy: 0.8886 - loss: 0.2732 - learning_rate: 2.0351e-04\n",
      "Epoch 23/30\n",
      "\u001b[1m1750/1750\u001b[0m \u001b[32m━━━━━━━━━━━━━━━━━━━━\u001b[0m\u001b[37m\u001b[0m \u001b[1m720s\u001b[0m 412ms/step - accuracy: 0.8892 - loss: 0.2714 - learning_rate: 1.8755e-04\n",
      "Epoch 24/30\n",
      "\u001b[1m1750/1750\u001b[0m \u001b[32m━━━━━━━━━━━━━━━━━━━━\u001b[0m\u001b[37m\u001b[0m \u001b[1m731s\u001b[0m 418ms/step - accuracy: 0.8885 - loss: 0.2702 - learning_rate: 1.7285e-04\n",
      "Epoch 25/30\n",
      "\u001b[1m1750/1750\u001b[0m \u001b[32m━━━━━━━━━━━━━━━━━━━━\u001b[0m\u001b[37m\u001b[0m \u001b[1m786s\u001b[0m 449ms/step - accuracy: 0.8894 - loss: 0.2694 - learning_rate: 1.6593e-04\n",
      "Epoch 26/30\n",
      "\u001b[1m 930/1750\u001b[0m \u001b[32m━━━━━━━━━━\u001b[0m\u001b[37m━━━━━━━━━━\u001b[0m \u001b[1m9:02\u001b[0m 662ms/step - accuracy: 0.8902 - loss: 0.2650"
     ]
    }
   ],
   "source": [
    "# Train the model in mini-batches to accommodate CPU training\n",
    "model.fit(\n",
    "    generator_train,\n",
    "    steps_per_epoch=len(training_image_paths) // batch_size,\n",
    "    epochs=30,\n",
    "    #use_multiprocessing=False,  # Disable multiprocessing for CPU-only training\n",
    "    #workers=1  # Use a single worker for CPU efficiency\n",
    "    callbacks = callbacks\n",
    ")\n",
    "\n",
    "# Save the trained model\n",
    "model.save('decay_new_30epoch_binary_classification_VGG16.keras')"
   ]
  },
  {
   "cell_type": "code",
   "execution_count": 8,
   "metadata": {},
   "outputs": [],
   "source": [
    "import os\n",
    "import tensorflow as tf\n",
    "import numpy as np\n",
    "from sklearn.metrics import accuracy_score, precision_score, recall_score, f1_score, roc_auc_score\n"
   ]
  },
  {
   "cell_type": "code",
   "execution_count": 9,
   "metadata": {},
   "outputs": [],
   "source": [
    "# Load the saved model\n",
    "model_path = 'decay_new_30epoch_binary_classification_VGG16.keras'\n",
    "model = tf.keras.models.load_model(model_path)\n"
   ]
  },
  {
   "cell_type": "code",
   "execution_count": 10,
   "metadata": {},
   "outputs": [],
   "source": [
    "# Test data paths\n",
    "test_image_folder = '//Users/goutham/17k_test_images'  # Test images path\n",
    "test_txt_folder = '/Users/goutham/17k_test_labels'    # Test labels path\n"
   ]
  },
  {
   "cell_type": "code",
   "execution_count": 11,
   "metadata": {},
   "outputs": [],
   "source": [
    "# Prepare lists for test image paths and labels\n",
    "test_image_paths = []\n",
    "test_labels = []\n"
   ]
  },
  {
   "cell_type": "code",
   "execution_count": 12,
   "metadata": {},
   "outputs": [],
   "source": [
    "# Load test image paths and labels\n",
    "for txt_file in os.listdir(test_txt_folder):\n",
    "    if txt_file.endswith('.txt'):\n",
    "        with open(os.path.join(test_txt_folder, txt_file), 'r') as file:\n",
    "            label = int(file.read().strip())\n",
    "            image_name = os.path.splitext(txt_file)[0] + '.jpg'  # Assuming test images are in .jpg format\n",
    "            image_path = os.path.join(test_image_folder, image_name)\n",
    "            if os.path.exists(image_path):\n",
    "                test_image_paths.append(image_path)\n",
    "                test_labels.append(label)\n"
   ]
  },
  {
   "cell_type": "code",
   "execution_count": 13,
   "metadata": {},
   "outputs": [
    {
     "name": "stdout",
     "output_type": "stream",
     "text": [
      "Shape of X_test: (17000, 64, 64, 3)\n",
      "\u001b[1m532/532\u001b[0m \u001b[32m━━━━━━━━━━━━━━━━━━━━\u001b[0m\u001b[37m\u001b[0m \u001b[1m251s\u001b[0m 471ms/step\n",
      "Accuracy: 0.9359\n",
      "Precision: 0.9560\n",
      "Recall: 0.9769\n",
      "F1 Score: 0.9663\n"
     ]
    }
   ],
   "source": [
    "# Check if there are any test images\n",
    "if len(test_image_paths) == 0:\n",
    "    print(\"No test images found. Please check the test_image_folder path and ensure files are available.\")\n",
    "else:\n",
    "    # Prepare test images array\n",
    "    X_test = []\n",
    "    for path in test_image_paths:\n",
    "        image = tf.keras.preprocessing.image.load_img(path, target_size=(64, 64))\n",
    "        image = tf.keras.preprocessing.image.img_to_array(image) / 255.0\n",
    "        X_test.append(image)\n",
    "    X_test = np.array(X_test)\n",
    "    y_test = np.array(test_labels)\n",
    "\n",
    "    # Check the shape of X_test\n",
    "    print(f'Shape of X_test: {X_test.shape}')  # Should be (num_samples, height, width, channels)\n",
    "\n",
    "    # Predict only if X_test has data\n",
    "    if X_test.shape[0] > 0:\n",
    "        y_pred_prob = model.predict(X_test)\n",
    "        y_pred = (y_pred_prob > 0.5).astype(int).flatten()\n",
    "\n",
    "        # Calculate metrics\n",
    "        accuracy = accuracy_score(y_test, y_pred)\n",
    "        precision = precision_score(y_test, y_pred)\n",
    "        recall = recall_score(y_test, y_pred)\n",
    "        f1 = f1_score(y_test, y_pred)\n",
    "        #roc_auc = roc_auc_score(y_test, y_pred_prob)\n",
    "\n",
    "        # Print metrics\n",
    "        print(f'Accuracy: {accuracy:.4f}')\n",
    "        print(f'Precision: {precision:.4f}')\n",
    "        print(f'Recall: {recall:.4f}')\n",
    "        print(f'F1 Score: {f1:.4f}')\n",
    "        #print(f'ROC AUC Score: {roc_auc:.4f}')\n",
    "    else:\n",
    "        print(\"X_test is empty, no predictions can be made.\")"
   ]
  },
  {
   "cell_type": "code",
   "execution_count": 14,
   "metadata": {},
   "outputs": [
    {
     "name": "stdout",
     "output_type": "stream",
     "text": [
      "\u001b[1m532/532\u001b[0m \u001b[32m━━━━━━━━━━━━━━━━━━━━\u001b[0m\u001b[37m\u001b[0m \u001b[1m254s\u001b[0m 477ms/step\n"
     ]
    },
    {
     "data": {
      "image/png": "[encoded data removed]",
      "text/plain": [
       "<Figure size 640x480 with 2 Axes>"
      ]
     },
     "metadata": {},
     "output_type": "display_data"
    },
    {
     "name": "stdout",
     "output_type": "stream",
     "text": [
      "Accuracy: 0.9359\n",
      "Precision: 0.9560\n",
      "Recall: 0.9769\n",
      "F1 Score: 0.9663\n"
     ]
    }
   ],
   "source": [
    "import numpy as np\n",
    "from tensorflow.keras.models import load_model\n",
    "from sklearn.metrics import confusion_matrix, ConfusionMatrixDisplay, accuracy_score, precision_score, recall_score, f1_score, roc_auc_score\n",
    "import matplotlib.pyplot as plt\n",
    "\n",
    "# Load your .keras model\n",
    "model = load_model('decay_new_30epoch_binary_classification_VGG16.keras')\n",
    "\n",
    "# Predict on the test set (for binary classification)\n",
    "y_pred_prob = model.predict(X_test)\n",
    "y_pred = (y_pred_prob > 0.5).astype(int).flatten()  # Threshold at 0.5 to get binary predictions (0 or 1)\n",
    "\n",
    "# Ensure that y_test is in the correct format (single dimension with 0 and 1 labels)\n",
    "y_true = y_test if y_test.ndim == 1 else np.argmax(y_test, axis=1)\n",
    "\n",
    "# Compute the confusion matrix\n",
    "cm = confusion_matrix(y_true, y_pred)\n",
    "\n",
    "# Display the confusion matrix\n",
    "disp = ConfusionMatrixDisplay(confusion_matrix=cm)\n",
    "disp.plot(cmap=plt.cm.Blues)\n",
    "plt.title(\"Confusion Matrix\")\n",
    "plt.show()\n",
    "\n",
    "# Calculate and print additional performance metrics\n",
    "accuracy = accuracy_score(y_true, y_pred)\n",
    "precision = precision_score(y_true, y_pred)\n",
    "recall = recall_score(y_true, y_pred)\n",
    "f1 = f1_score(y_true, y_pred)\n",
    "#roc_auc = roc_auc_score(y_true, y_pred_prob)\n",
    "\n",
    "print(f'Accuracy: {accuracy:.4f}')\n",
    "print(f'Precision: {precision:.4f}')\n",
    "print(f'Recall: {recall:.4f}')\n",
    "print(f'F1 Score: {f1:.4f}')\n",
    "#print(f'ROC AUC Score: {roc_auc:.4f}')"
   ]
  },
  {
   "cell_type": "code",
   "execution_count": null,
   "metadata": {},
   "outputs": [],
   "source": []
  },
  {
   "cell_type": "code",
   "execution_count": null,
   "metadata": {},
   "outputs": [],
   "source": []
  }
 ],
 "metadata": {
  "kernelspec": {
   "display_name": ".venv",
   "language": "python",
   "name": "python3"
  },
  "language_info": {
   "codemirror_mode": {
    "name": "ipython",
    "version": 3
   },
   "file_extension": ".py",
   "mimetype": "text/x-python",
   "name": "python",
   "nbconvert_exporter": "python",
   "pygments_lexer": "ipython3",
   "version": "3.12.2"
  }
 },
 "nbformat": 4,
 "nbformat_minor": 2
}
