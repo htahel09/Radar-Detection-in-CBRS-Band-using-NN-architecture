{
 "cells": [
  {
   "cell_type": "code",
   "execution_count": 1,
   "id": "e54830b3-e7a4-4f24-b874-ad3c6c94e486",
   "metadata": {},
   "outputs": [
    {
     "data": {
      "text/html": [
       "<pre style=\"white-space:pre;overflow-x:auto;line-height:normal;font-family:Menlo,'DejaVu Sans Mono',consolas,'Courier New',monospace\"><span style=\"font-weight: bold\">Model: \"sequential\"</span>\n",
       "</pre>\n"
      ],
      "text/plain": [
       "\u001b[1mModel: \"sequential\"\u001b[0m\n"
      ]
     },
     "metadata": {},
     "output_type": "display_data"
    },
    {
     "data": {
      "text/html": [
       "<pre style=\"white-space:pre;overflow-x:auto;line-height:normal;font-family:Menlo,'DejaVu Sans Mono',consolas,'Courier New',monospace\">┏━━━━━━━━━━━━━━━━━━━━━━━━━━━━━━━━━┳━━━━━━━━━━━━━━━━━━━━━━━━┳━━━━━━━━━━━━━━━┓\n",
       "┃<span style=\"font-weight: bold\"> Layer (type)                    </span>┃<span style=\"font-weight: bold\"> Output Shape           </span>┃<span style=\"font-weight: bold\">       Param # </span>┃\n",
       "┡━━━━━━━━━━━━━━━━━━━━━━━━━━━━━━━━━╇━━━━━━━━━━━━━━━━━━━━━━━━╇━━━━━━━━━━━━━━━┩\n",
       "│ mobilenet_1.00_128 (<span style=\"color: #0087ff; text-decoration-color: #0087ff\">Functional</span>) │ (<span style=\"color: #00d7ff; text-decoration-color: #00d7ff\">None</span>, <span style=\"color: #00af00; text-decoration-color: #00af00\">4</span>, <span style=\"color: #00af00; text-decoration-color: #00af00\">4</span>, <span style=\"color: #00af00; text-decoration-color: #00af00\">1024</span>)     │     <span style=\"color: #00af00; text-decoration-color: #00af00\">3,228,864</span> │\n",
       "├─────────────────────────────────┼────────────────────────┼───────────────┤\n",
       "│ conv2d (<span style=\"color: #0087ff; text-decoration-color: #0087ff\">Conv2D</span>)                 │ (<span style=\"color: #00d7ff; text-decoration-color: #00d7ff\">None</span>, <span style=\"color: #00af00; text-decoration-color: #00af00\">4</span>, <span style=\"color: #00af00; text-decoration-color: #00af00\">4</span>, <span style=\"color: #00af00; text-decoration-color: #00af00\">128</span>)      │     <span style=\"color: #00af00; text-decoration-color: #00af00\">1,179,776</span> │\n",
       "├─────────────────────────────────┼────────────────────────┼───────────────┤\n",
       "│ batch_normalization             │ (<span style=\"color: #00d7ff; text-decoration-color: #00d7ff\">None</span>, <span style=\"color: #00af00; text-decoration-color: #00af00\">4</span>, <span style=\"color: #00af00; text-decoration-color: #00af00\">4</span>, <span style=\"color: #00af00; text-decoration-color: #00af00\">128</span>)      │           <span style=\"color: #00af00; text-decoration-color: #00af00\">512</span> │\n",
       "│ (<span style=\"color: #0087ff; text-decoration-color: #0087ff\">BatchNormalization</span>)            │                        │               │\n",
       "├─────────────────────────────────┼────────────────────────┼───────────────┤\n",
       "│ re_lu (<span style=\"color: #0087ff; text-decoration-color: #0087ff\">ReLU</span>)                    │ (<span style=\"color: #00d7ff; text-decoration-color: #00d7ff\">None</span>, <span style=\"color: #00af00; text-decoration-color: #00af00\">4</span>, <span style=\"color: #00af00; text-decoration-color: #00af00\">4</span>, <span style=\"color: #00af00; text-decoration-color: #00af00\">128</span>)      │             <span style=\"color: #00af00; text-decoration-color: #00af00\">0</span> │\n",
       "├─────────────────────────────────┼────────────────────────┼───────────────┤\n",
       "│ flatten (<span style=\"color: #0087ff; text-decoration-color: #0087ff\">Flatten</span>)               │ (<span style=\"color: #00d7ff; text-decoration-color: #00d7ff\">None</span>, <span style=\"color: #00af00; text-decoration-color: #00af00\">2048</span>)           │             <span style=\"color: #00af00; text-decoration-color: #00af00\">0</span> │\n",
       "├─────────────────────────────────┼────────────────────────┼───────────────┤\n",
       "│ dense (<span style=\"color: #0087ff; text-decoration-color: #0087ff\">Dense</span>)                   │ (<span style=\"color: #00d7ff; text-decoration-color: #00d7ff\">None</span>, <span style=\"color: #00af00; text-decoration-color: #00af00\">128</span>)            │       <span style=\"color: #00af00; text-decoration-color: #00af00\">262,272</span> │\n",
       "├─────────────────────────────────┼────────────────────────┼───────────────┤\n",
       "│ dropout (<span style=\"color: #0087ff; text-decoration-color: #0087ff\">Dropout</span>)               │ (<span style=\"color: #00d7ff; text-decoration-color: #00d7ff\">None</span>, <span style=\"color: #00af00; text-decoration-color: #00af00\">128</span>)            │             <span style=\"color: #00af00; text-decoration-color: #00af00\">0</span> │\n",
       "├─────────────────────────────────┼────────────────────────┼───────────────┤\n",
       "│ dense_1 (<span style=\"color: #0087ff; text-decoration-color: #0087ff\">Dense</span>)                 │ (<span style=\"color: #00d7ff; text-decoration-color: #00d7ff\">None</span>, <span style=\"color: #00af00; text-decoration-color: #00af00\">1</span>)              │           <span style=\"color: #00af00; text-decoration-color: #00af00\">129</span> │\n",
       "└─────────────────────────────────┴────────────────────────┴───────────────┘\n",
       "</pre>\n"
      ],
      "text/plain": [
       "┏━━━━━━━━━━━━━━━━━━━━━━━━━━━━━━━━━┳━━━━━━━━━━━━━━━━━━━━━━━━┳━━━━━━━━━━━━━━━┓\n",
       "┃\u001b[1m \u001b[0m\u001b[1mLayer (type)                   \u001b[0m\u001b[1m \u001b[0m┃\u001b[1m \u001b[0m\u001b[1mOutput Shape          \u001b[0m\u001b[1m \u001b[0m┃\u001b[1m \u001b[0m\u001b[1m      Param #\u001b[0m\u001b[1m \u001b[0m┃\n",
       "┡━━━━━━━━━━━━━━━━━━━━━━━━━━━━━━━━━╇━━━━━━━━━━━━━━━━━━━━━━━━╇━━━━━━━━━━━━━━━┩\n",
       "│ mobilenet_1.00_128 (\u001b[38;5;33mFunctional\u001b[0m) │ (\u001b[38;5;45mNone\u001b[0m, \u001b[38;5;34m4\u001b[0m, \u001b[38;5;34m4\u001b[0m, \u001b[38;5;34m1024\u001b[0m)     │     \u001b[38;5;34m3,228,864\u001b[0m │\n",
       "├─────────────────────────────────┼────────────────────────┼───────────────┤\n",
       "│ conv2d (\u001b[38;5;33mConv2D\u001b[0m)                 │ (\u001b[38;5;45mNone\u001b[0m, \u001b[38;5;34m4\u001b[0m, \u001b[38;5;34m4\u001b[0m, \u001b[38;5;34m128\u001b[0m)      │     \u001b[38;5;34m1,179,776\u001b[0m │\n",
       "├─────────────────────────────────┼────────────────────────┼───────────────┤\n",
       "│ batch_normalization             │ (\u001b[38;5;45mNone\u001b[0m, \u001b[38;5;34m4\u001b[0m, \u001b[38;5;34m4\u001b[0m, \u001b[38;5;34m128\u001b[0m)      │           \u001b[38;5;34m512\u001b[0m │\n",
       "│ (\u001b[38;5;33mBatchNormalization\u001b[0m)            │                        │               │\n",
       "├─────────────────────────────────┼────────────────────────┼───────────────┤\n",
       "│ re_lu (\u001b[38;5;33mReLU\u001b[0m)                    │ (\u001b[38;5;45mNone\u001b[0m, \u001b[38;5;34m4\u001b[0m, \u001b[38;5;34m4\u001b[0m, \u001b[38;5;34m128\u001b[0m)      │             \u001b[38;5;34m0\u001b[0m │\n",
       "├─────────────────────────────────┼────────────────────────┼───────────────┤\n",
       "│ flatten (\u001b[38;5;33mFlatten\u001b[0m)               │ (\u001b[38;5;45mNone\u001b[0m, \u001b[38;5;34m2048\u001b[0m)           │             \u001b[38;5;34m0\u001b[0m │\n",
       "├─────────────────────────────────┼────────────────────────┼───────────────┤\n",
       "│ dense (\u001b[38;5;33mDense\u001b[0m)                   │ (\u001b[38;5;45mNone\u001b[0m, \u001b[38;5;34m128\u001b[0m)            │       \u001b[38;5;34m262,272\u001b[0m │\n",
       "├─────────────────────────────────┼────────────────────────┼───────────────┤\n",
       "│ dropout (\u001b[38;5;33mDropout\u001b[0m)               │ (\u001b[38;5;45mNone\u001b[0m, \u001b[38;5;34m128\u001b[0m)            │             \u001b[38;5;34m0\u001b[0m │\n",
       "├─────────────────────────────────┼────────────────────────┼───────────────┤\n",
       "│ dense_1 (\u001b[38;5;33mDense\u001b[0m)                 │ (\u001b[38;5;45mNone\u001b[0m, \u001b[38;5;34m1\u001b[0m)              │           \u001b[38;5;34m129\u001b[0m │\n",
       "└─────────────────────────────────┴────────────────────────┴───────────────┘\n"
      ]
     },
     "metadata": {},
     "output_type": "display_data"
    },
    {
     "data": {
      "text/html": [
       "<pre style=\"white-space:pre;overflow-x:auto;line-height:normal;font-family:Menlo,'DejaVu Sans Mono',consolas,'Courier New',monospace\"><span style=\"font-weight: bold\"> Total params: </span><span style=\"color: #00af00; text-decoration-color: #00af00\">4,671,553</span> (17.82 MB)\n",
       "</pre>\n"
      ],
      "text/plain": [
       "\u001b[1m Total params: \u001b[0m\u001b[38;5;34m4,671,553\u001b[0m (17.82 MB)\n"
      ]
     },
     "metadata": {},
     "output_type": "display_data"
    },
    {
     "data": {
      "text/html": [
       "<pre style=\"white-space:pre;overflow-x:auto;line-height:normal;font-family:Menlo,'DejaVu Sans Mono',consolas,'Courier New',monospace\"><span style=\"font-weight: bold\"> Trainable params: </span><span style=\"color: #00af00; text-decoration-color: #00af00\">1,442,433</span> (5.50 MB)\n",
       "</pre>\n"
      ],
      "text/plain": [
       "\u001b[1m Trainable params: \u001b[0m\u001b[38;5;34m1,442,433\u001b[0m (5.50 MB)\n"
      ]
     },
     "metadata": {},
     "output_type": "display_data"
    },
    {
     "data": {
      "text/html": [
       "<pre style=\"white-space:pre;overflow-x:auto;line-height:normal;font-family:Menlo,'DejaVu Sans Mono',consolas,'Courier New',monospace\"><span style=\"font-weight: bold\"> Non-trainable params: </span><span style=\"color: #00af00; text-decoration-color: #00af00\">3,229,120</span> (12.32 MB)\n",
       "</pre>\n"
      ],
      "text/plain": [
       "\u001b[1m Non-trainable params: \u001b[0m\u001b[38;5;34m3,229,120\u001b[0m (12.32 MB)\n"
      ]
     },
     "metadata": {},
     "output_type": "display_data"
    },
    {
     "name": "stdout",
     "output_type": "stream",
     "text": [
      "X_train shape: (44800, 128, 128, 3), y_train shape: (44800,)\n",
      "X_val shape: (11200, 128, 128, 3), y_val shape: (11200,)\n"
     ]
    }
   ],
   "source": [
    "import tensorflow as tf\n",
    "from tensorflow.keras.models import Sequential\n",
    "from tensorflow.keras.layers import Flatten, Dense, Dropout, Conv2D, BatchNormalization, ReLU\n",
    "from tensorflow.keras.applications import MobileNet\n",
    "from tensorflow.keras.preprocessing.image import ImageDataGenerator\n",
    "from tensorflow.keras.callbacks import ModelCheckpoint, EarlyStopping, ReduceLROnPlateau\n",
    "from tensorflow.keras.regularizers import l2  # Import L2 regularizer\n",
    "from sklearn.metrics import accuracy_score, precision_score, recall_score, f1_score, roc_auc_score\n",
    "import os\n",
    "import numpy as np\n",
    "import random\n",
    "\n",
    "# Function to preprocess spectrograms\n",
    "def preprocess_spectrogram(spectrogram, target_size):\n",
    "    # Normalize\n",
    "    spectrogram = spectrogram / np.max(spectrogram)\n",
    "    # Resize to match MobileNet input\n",
    "    spectrogram = tf.image.resize(spectrogram, target_size)\n",
    "    # Convert to 3 channels (stack the same data for all channels)\n",
    "    spectrogram = tf.image.grayscale_to_rgb(spectrogram)\n",
    "    return spectrogram.numpy()\n",
    "\n",
    "# Data augmentation for spectrograms\n",
    "def augment_spectrogram(spectrogram):\n",
    "    # Time shifting\n",
    "    shift = random.randint(-10, 10)\n",
    "    spectrogram = np.roll(spectrogram, shift, axis=1)\n",
    "\n",
    "    # Frequency masking\n",
    "    freq_mask = random.randint(0, 10)\n",
    "    spectrogram[:, freq_mask:freq_mask + 10, :] = 0\n",
    "\n",
    "    # Time masking\n",
    "    time_mask = random.randint(0, 10)\n",
    "    spectrogram[time_mask:time_mask + 10, :, :] = 0\n",
    "\n",
    "    return spectrogram\n",
    "\n",
    "# Create a model with MobileNetV2 as the base and L2 regularization\n",
    "def create_model(input_shape):\n",
    "    # Load MobileNetV2 without the top layers\n",
    "    #weights_path = './models/mobilenet_v2_weights_tf_dim_ordering_tf_kernels_1.0_128_no_top.h5'\n",
    "    base_model = MobileNet(weights='imagenet', include_top=False, input_shape=input_shape)\n",
    "\n",
    "    # Fine-tune MobileNetV2\n",
    "    for layer in base_model.layers:\n",
    "        layer.trainable = False\n",
    "    #base_model.trainable = True\n",
    "    for layer in base_model.layers[-3:0]:  # Freeze the first 100 layers\n",
    "        layer.trainable = True\n",
    "\n",
    "    # Add custom layers with L2 regularization\n",
    "    model = Sequential([\n",
    "        base_model,\n",
    "        Conv2D(128, (3, 3), activation='relu', padding='same', kernel_regularizer=l2(0.01)),  # L2 regularization\n",
    "        BatchNormalization(),\n",
    "        ReLU(),\n",
    "        Flatten(),\n",
    "        Dense(128, activation='relu', kernel_regularizer=l2(0.01)),  # L2 regularization\n",
    "        Dropout(0.5),\n",
    "        Dense(1, activation='sigmoid', kernel_regularizer=l2(0.01))  # L2 regularization\n",
    "    ])\n",
    "    return model\n",
    "\n",
    "# Load and preprocess spectrogram dataset\n",
    "def load_data(image_folder, txt_folder, target_size):\n",
    "    image_paths = []\n",
    "    labels = []\n",
    "\n",
    "    # Read labels and corresponding spectrogram paths\n",
    "    for txt_file in os.listdir(txt_folder):\n",
    "        if txt_file.endswith('.txt'):\n",
    "            with open(os.path.join(txt_folder, txt_file), 'r') as file:\n",
    "                label = int(file.read().strip())\n",
    "                image_name = os.path.splitext(txt_file)[0] + '.jpg'  # Assuming spectrograms are in .jpg format\n",
    "                image_path = os.path.join(image_folder, image_name)\n",
    "                if os.path.exists(image_path):\n",
    "                    image_paths.append(image_path)\n",
    "                    labels.append(label)\n",
    "\n",
    "    # Preprocess spectrograms\n",
    "    X = []\n",
    "    y = []\n",
    "    for img_path, label in zip(image_paths, labels):\n",
    "        spectrogram = tf.keras.preprocessing.image.load_img(img_path, color_mode='grayscale')\n",
    "        spectrogram = tf.keras.preprocessing.image.img_to_array(spectrogram)\n",
    "        spectrogram = preprocess_spectrogram(spectrogram, target_size)\n",
    "        spectrogram = augment_spectrogram(spectrogram)  # Apply augmentation\n",
    "        X.append(spectrogram)\n",
    "        y.append(label)\n",
    "\n",
    "    return np.array(X), np.array(y)\n",
    "\n",
    "# Input shape for spectrograms\n",
    "input_shape = (128, 128, 3)\n",
    "\n",
    "# Create the model\n",
    "model = create_model(input_shape)\n",
    "\n",
    "# Define exponential decay for the learning rate\n",
    "initial_learning_rate = 1e-4\n",
    "lr_schedule = tf.keras.optimizers.schedules.ExponentialDecay(\n",
    "    initial_learning_rate=initial_learning_rate,\n",
    "    decay_steps=10000,  # Adjust based on the dataset size\n",
    "    decay_rate=0.96,    # Decay rate (e.g., reduce by 4% per step)\n",
    "    staircase=True      # Whether to apply a staircase decay\n",
    ")\n",
    "\n",
    "# Compile the model with exponential decay\n",
    "model.compile(optimizer=tf.keras.optimizers.Adam(learning_rate=lr_schedule),\n",
    "              loss='binary_crossentropy',\n",
    "              metrics=['accuracy', tf.keras.metrics.Precision(), tf.keras.metrics.Recall()])\n",
    "\n",
    "# Display model summary\n",
    "model.summary()\n",
    "\n",
    "# Paths to dataset\n",
    "image_folder = 'Dataset_Model/Final_dataset 2/56k_train_images'  # Replace with your training spectrogram images path\n",
    "txt_folder = 'Dataset_Model/Final_dataset 2/56k_train_labels'  # Replace with your training labels path\n",
    "\n",
    "# Load data\n",
    "X, y = load_data(image_folder, txt_folder, (128, 128))\n",
    "\n",
    "# Train-test split\n",
    "from sklearn.model_selection import train_test_split\n",
    "X_train, X_val, y_train, y_val = train_test_split(X, y, test_size=0.2, stratify=y, random_state=42)\n",
    "\n",
    "print(f\"X_train shape: {X_train.shape}, y_train shape: {y_train.shape}\")\n",
    "print(f\"X_val shape: {X_val.shape}, y_val shape: {y_val.shape}\")\n"
   ]
  },
  {
   "cell_type": "code",
   "execution_count": 2,
   "id": "9d940ed1-49c2-4a09-b396-d89e1ee41cd0",
   "metadata": {},
   "outputs": [
    {
     "name": "stdout",
     "output_type": "stream",
     "text": [
      "X_train shape: (44800, 128, 128, 3)\n",
      "X_val shape: (11200, 128, 128, 3)\n",
      "y_train shape: (44800,)\n",
      "y_val shape: (11200,)\n",
      "Training labels distribution: [ 6400 38400]\n",
      "Validation labels distribution: [1600 9600]\n"
     ]
    }
   ],
   "source": [
    "print(f\"X_train shape: {X_train.shape}\")\n",
    "print(f\"X_val shape: {X_val.shape}\")\n",
    "print(f\"y_train shape: {y_train.shape}\")\n",
    "print(f\"y_val shape: {y_val.shape}\")\n",
    "\n",
    "print(f\"Training labels distribution: {np.bincount(y_train)}\")\n",
    "print(f\"Validation labels distribution: {np.bincount(y_val)}\")"
   ]
  },
  {
   "cell_type": "code",
   "execution_count": 3,
   "id": "99a140fb-ad83-443a-a460-1a549b489a96",
   "metadata": {},
   "outputs": [
    {
     "name": "stdout",
     "output_type": "stream",
     "text": [
      "Epoch 1/100\n"
     ]
    },
    {
     "name": "stderr",
     "output_type": "stream",
     "text": [
      "/opt/homebrew/Cellar/jupyterlab/4.3.1/libexec/lib/python3.12/site-packages/keras/src/trainers/data_adapters/py_dataset_adapter.py:121: UserWarning: Your `PyDataset` class should call `super().__init__(**kwargs)` in its constructor. `**kwargs` can include `workers`, `use_multiprocessing`, `max_queue_size`. Do not pass these arguments to `fit()`, as they will be ignored.\n",
      "  self._warn_if_super_not_called()\n"
     ]
    },
    {
     "name": "stdout",
     "output_type": "stream",
     "text": [
      "\u001b[1m700/700\u001b[0m \u001b[32m━━━━━━━━━━━━━━━━━━━━\u001b[0m\u001b[37m\u001b[0m \u001b[1m133s\u001b[0m 188ms/step - accuracy: 0.8672 - loss: 3.5426 - precision: 0.8846 - recall: 0.9714 - val_accuracy: 0.8986 - val_loss: 1.2717 - val_precision: 0.9062 - val_recall: 0.9834 - learning_rate: 1.0000e-04\n",
      "Epoch 2/100\n",
      "\u001b[1m700/700\u001b[0m \u001b[32m━━━━━━━━━━━━━━━━━━━━\u001b[0m\u001b[37m\u001b[0m \u001b[1m141s\u001b[0m 201ms/step - accuracy: 0.8956 - loss: 1.0637 - precision: 0.9091 - recall: 0.9755 - val_accuracy: 0.9008 - val_loss: 0.6366 - val_precision: 0.9052 - val_recall: 0.9877 - learning_rate: 1.0000e-04\n",
      "Epoch 3/100\n",
      "\u001b[1m700/700\u001b[0m \u001b[32m━━━━━━━━━━━━━━━━━━━━\u001b[0m\u001b[37m\u001b[0m \u001b[1m143s\u001b[0m 204ms/step - accuracy: 0.9040 - loss: 0.5687 - precision: 0.9154 - recall: 0.9787 - val_accuracy: 0.9045 - val_loss: 0.4209 - val_precision: 0.9118 - val_recall: 0.9836 - learning_rate: 1.0000e-04\n",
      "Epoch 4/100\n",
      "\u001b[1m700/700\u001b[0m \u001b[32m━━━━━━━━━━━━━━━━━━━━\u001b[0m\u001b[37m\u001b[0m \u001b[1m147s\u001b[0m 210ms/step - accuracy: 0.9066 - loss: 0.3946 - precision: 0.9192 - recall: 0.9772 - val_accuracy: 0.8983 - val_loss: 0.3615 - val_precision: 0.8977 - val_recall: 0.9947 - learning_rate: 1.0000e-04\n",
      "Epoch 5/100\n",
      "\u001b[1m700/700\u001b[0m \u001b[32m━━━━━━━━━━━━━━━━━━━━\u001b[0m\u001b[37m\u001b[0m \u001b[1m149s\u001b[0m 214ms/step - accuracy: 0.9089 - loss: 0.3178 - precision: 0.9220 - recall: 0.9765 - val_accuracy: 0.9032 - val_loss: 0.2936 - val_precision: 0.9208 - val_recall: 0.9706 - learning_rate: 1.0000e-04\n",
      "Epoch 6/100\n",
      "\u001b[1m700/700\u001b[0m \u001b[32m━━━━━━━━━━━━━━━━━━━━\u001b[0m\u001b[37m\u001b[0m \u001b[1m154s\u001b[0m 220ms/step - accuracy: 0.9120 - loss: 0.2794 - precision: 0.9265 - recall: 0.9749 - val_accuracy: 0.9037 - val_loss: 0.2815 - val_precision: 0.9147 - val_recall: 0.9789 - learning_rate: 1.0000e-04\n",
      "Epoch 7/100\n",
      "\u001b[1m700/700\u001b[0m \u001b[32m━━━━━━━━━━━━━━━━━━━━\u001b[0m\u001b[37m\u001b[0m \u001b[1m153s\u001b[0m 218ms/step - accuracy: 0.9173 - loss: 0.2506 - precision: 0.9307 - recall: 0.9768 - val_accuracy: 0.9036 - val_loss: 0.2639 - val_precision: 0.9292 - val_recall: 0.9607 - learning_rate: 1.0000e-04\n",
      "Epoch 8/100\n",
      "\u001b[1m700/700\u001b[0m \u001b[32m━━━━━━━━━━━━━━━━━━━━\u001b[0m\u001b[37m\u001b[0m \u001b[1m163s\u001b[0m 233ms/step - accuracy: 0.9171 - loss: 0.2409 - precision: 0.9307 - recall: 0.9762 - val_accuracy: 0.8969 - val_loss: 0.3158 - val_precision: 0.8978 - val_recall: 0.9927 - learning_rate: 1.0000e-04\n",
      "Epoch 9/100\n",
      "\u001b[1m700/700\u001b[0m \u001b[32m━━━━━━━━━━━━━━━━━━━━\u001b[0m\u001b[37m\u001b[0m \u001b[1m149s\u001b[0m 213ms/step - accuracy: 0.9202 - loss: 0.2332 - precision: 0.9334 - recall: 0.9766 - val_accuracy: 0.9029 - val_loss: 0.2816 - val_precision: 0.9083 - val_recall: 0.9864 - learning_rate: 1.0000e-04\n",
      "Epoch 10/100\n",
      "\u001b[1m700/700\u001b[0m \u001b[32m━━━━━━━━━━━━━━━━━━━━\u001b[0m\u001b[37m\u001b[0m \u001b[1m136s\u001b[0m 194ms/step - accuracy: 0.9200 - loss: 0.2289 - precision: 0.9337 - recall: 0.9759 - val_accuracy: 0.9073 - val_loss: 0.2545 - val_precision: 0.9275 - val_recall: 0.9675 - learning_rate: 1.0000e-04\n",
      "Epoch 11/100\n",
      "\u001b[1m700/700\u001b[0m \u001b[32m━━━━━━━━━━━━━━━━━━━━\u001b[0m\u001b[37m\u001b[0m \u001b[1m133s\u001b[0m 191ms/step - accuracy: 0.9189 - loss: 0.2272 - precision: 0.9349 - recall: 0.9729 - val_accuracy: 0.9048 - val_loss: 0.2609 - val_precision: 0.9170 - val_recall: 0.9774 - learning_rate: 1.0000e-04\n",
      "Epoch 12/100\n",
      "\u001b[1m700/700\u001b[0m \u001b[32m━━━━━━━━━━━━━━━━━━━━\u001b[0m\u001b[37m\u001b[0m \u001b[1m133s\u001b[0m 190ms/step - accuracy: 0.9246 - loss: 0.2170 - precision: 0.9386 - recall: 0.9758 - val_accuracy: 0.9030 - val_loss: 0.2506 - val_precision: 0.9256 - val_recall: 0.9644 - learning_rate: 1.0000e-04\n",
      "Epoch 13/100\n",
      "\u001b[1m700/700\u001b[0m \u001b[32m━━━━━━━━━━━━━━━━━━━━\u001b[0m\u001b[37m\u001b[0m \u001b[1m134s\u001b[0m 191ms/step - accuracy: 0.9257 - loss: 0.2120 - precision: 0.9401 - recall: 0.9757 - val_accuracy: 0.9066 - val_loss: 0.2535 - val_precision: 0.9169 - val_recall: 0.9799 - learning_rate: 1.0000e-04\n",
      "Epoch 14/100\n",
      "\u001b[1m700/700\u001b[0m \u001b[32m━━━━━━━━━━━━━━━━━━━━\u001b[0m\u001b[37m\u001b[0m \u001b[1m145s\u001b[0m 207ms/step - accuracy: 0.9270 - loss: 0.2071 - precision: 0.9418 - recall: 0.9750 - val_accuracy: 0.9055 - val_loss: 0.2538 - val_precision: 0.9286 - val_recall: 0.9640 - learning_rate: 1.0000e-04\n",
      "Epoch 15/100\n",
      "\u001b[1m700/700\u001b[0m \u001b[32m━━━━━━━━━━━━━━━━━━━━\u001b[0m\u001b[37m\u001b[0m \u001b[1m145s\u001b[0m 208ms/step - accuracy: 0.9290 - loss: 0.2043 - precision: 0.9433 - recall: 0.9758 - val_accuracy: 0.9033 - val_loss: 0.2649 - val_precision: 0.9238 - val_recall: 0.9670 - learning_rate: 9.6000e-05\n",
      "\u001b[1m532/532\u001b[0m \u001b[32m━━━━━━━━━━━━━━━━━━━━\u001b[0m\u001b[37m\u001b[0m \u001b[1m43s\u001b[0m 79ms/step\n",
      "Accuracy: 0.9394\n",
      "Precision: 0.9698\n",
      "Recall: 0.9656\n",
      "F1 Score: 0.9677\n",
      "ROC AUC Score: 0.9333\n"
     ]
    },
    {
     "data": {
      "text/plain": [
       "<Figure size 800x600 with 0 Axes>"
      ]
     },
     "metadata": {},
     "output_type": "display_data"
    },
    {
     "data": {
      "image/png": "[encoded data removed]",
      "text/plain": [
       "<Figure size 640x480 with 2 Axes>"
      ]
     },
     "metadata": {},
     "output_type": "display_data"
    }
   ],
   "source": [
    "import matplotlib.pyplot as plt\n",
    "from sklearn.metrics import confusion_matrix, ConfusionMatrixDisplay\n",
    "\n",
    "# Create data generators\n",
    "train_datagen = ImageDataGenerator()\n",
    "val_datagen = ImageDataGenerator()\n",
    "\n",
    "train_generator = train_datagen.flow(X_train, y_train, batch_size=64)\n",
    "val_generator = val_datagen.flow(X_val, y_val, batch_size=64)\n",
    "\n",
    "# Callbacks for training\n",
    "callbacks = [\n",
    "    ModelCheckpoint('best_Exp_MV1.keras', save_best_only=True, monitor='val_loss'),\n",
    "    EarlyStopping(patience=3, monitor='val_loss', restore_best_weights=True),\n",
    "    ReduceLROnPlateau(monitor='val_loss', factor=0.1, patience=5, verbose=1)\n",
    "]\n",
    "\n",
    "# Train the model\n",
    "history = model.fit(\n",
    "    train_generator,\n",
    "    validation_data=val_generator,\n",
    "    epochs=100,\n",
    "    callbacks=callbacks\n",
    ")\n",
    "\n",
    "# Save the trained model\n",
    "model.save('final_Exp_MV1.keras')\n",
    "\n",
    "# Load test data\n",
    "test_image_folder = 'Dataset_Model/Final_dataset 2/17k_test_images'  # Replace with your test spectrogram images path\n",
    "test_txt_folder = 'Dataset_Model/Final_dataset/17k_test_labels'  # Replace with your test labels path\n",
    "X_test, y_test = load_data(test_image_folder, test_txt_folder, (128, 128))\n",
    "\n",
    "# Evaluate the model on test data\n",
    "y_pred_prob = model.predict(X_test)\n",
    "y_pred = (y_pred_prob > 0.5).astype(int).flatten()\n",
    "\n",
    "# Calculate metrics\n",
    "accuracy = accuracy_score(y_test, y_pred)\n",
    "precision = precision_score(y_test, y_pred)\n",
    "recall = recall_score(y_test, y_pred)\n",
    "f1 = f1_score(y_test, y_pred)\n",
    "roc_auc = roc_auc_score(y_test, y_pred_prob)\n",
    "\n",
    "# Print metrics\n",
    "print(f'Accuracy: {accuracy:.4f}')\n",
    "print(f'Precision: {precision:.4f}')\n",
    "print(f'Recall: {recall:.4f}')\n",
    "print(f'F1 Score: {f1:.4f}')\n",
    "print(f'ROC AUC Score: {roc_auc:.4f}')\n",
    "\n",
    "# Generate and display confusion matrix\n",
    "conf_matrix = confusion_matrix(y_test, y_pred)\n",
    "\n",
    "# Plot confusion matrix\n",
    "plt.figure(figsize=(8, 6))\n",
    "disp = ConfusionMatrixDisplay(confusion_matrix=conf_matrix, display_labels=[0, 1])\n",
    "disp.plot(cmap=plt.cm.Blues, values_format=\"d\")\n",
    "plt.title(\"Confusion Matrix\")\n",
    "plt.show()"
   ]
  },
  {
   "cell_type": "code",
   "execution_count": null,
   "id": "10128701-00bd-4159-8b58-64d39c6912d1",
   "metadata": {},
   "outputs": [],
   "source": []
  }
 ],
 "metadata": {
  "kernelspec": {
   "display_name": "Python 3 (ipykernel)",
   "language": "python",
   "name": "python3"
  },
  "language_info": {
   "codemirror_mode": {
    "name": "ipython",
    "version": 3
   },
   "file_extension": ".py",
   "mimetype": "text/x-python",
   "name": "python",
   "nbconvert_exporter": "python",
   "pygments_lexer": "ipython3",
   "version": "3.12.7"
  }
 },
 "nbformat": 4,
 "nbformat_minor": 5
}
